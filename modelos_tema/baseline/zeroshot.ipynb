{
 "cells": [
  {
   "cell_type": "code",
   "execution_count": 2,
   "metadata": {},
   "outputs": [
    {
     "name": "stderr",
     "output_type": "stream",
     "text": [
      "/home/abitporu/Documents/azmina/.venv/lib/python3.10/site-packages/tqdm/auto.py:21: TqdmWarning: IProgress not found. Please update jupyter and ipywidgets. See https://ipywidgets.readthedocs.io/en/stable/user_install.html\n",
      "  from .autonotebook import tqdm as notebook_tqdm\n",
      "2024-07-04 12:03:07.820197: I tensorflow/core/util/port.cc:113] oneDNN custom operations are on. You may see slightly different numerical results due to floating-point round-off errors from different computation orders. To turn them off, set the environment variable `TF_ENABLE_ONEDNN_OPTS=0`.\n",
      "2024-07-04 12:03:07.821075: I external/local_tsl/tsl/cuda/cudart_stub.cc:32] Could not find cuda drivers on your machine, GPU will not be used.\n",
      "2024-07-04 12:03:07.857095: I external/local_tsl/tsl/cuda/cudart_stub.cc:32] Could not find cuda drivers on your machine, GPU will not be used.\n",
      "2024-07-04 12:03:08.001650: I tensorflow/core/platform/cpu_feature_guard.cc:210] This TensorFlow binary is optimized to use available CPU instructions in performance-critical operations.\n",
      "To enable the following instructions: AVX2 AVX_VNNI FMA, in other operations, rebuild TensorFlow with the appropriate compiler flags.\n",
      "2024-07-04 12:03:08.743222: W tensorflow/compiler/tf2tensorrt/utils/py_utils.cc:38] TF-TRT Warning: Could not find TensorRT\n"
     ]
    }
   ],
   "source": [
    "import pandas as pd\n",
    "from transformers import pipeline\n",
    "from sklearn.metrics import classification_report"
   ]
  },
  {
   "cell_type": "code",
   "execution_count": 3,
   "metadata": {},
   "outputs": [],
   "source": [
    "DATA_PATH = \"../../data/\"\n",
    "\n",
    "INPUT_TRAIN = DATA_PATH + \"train.csv\"\n",
    "\n",
    "INPUT_TEST = DATA_PATH + \"test.csv\""
   ]
  },
  {
   "cell_type": "code",
   "execution_count": 4,
   "metadata": {},
   "outputs": [],
   "source": [
    "train = pd.read_csv(INPUT_TRAIN)\n",
    "test = pd.read_csv(INPUT_TEST)"
   ]
  },
  {
   "cell_type": "code",
   "execution_count": 5,
   "metadata": {},
   "outputs": [
    {
     "data": {
      "text/plain": [
       "True"
      ]
     },
     "execution_count": 5,
     "metadata": {},
     "output_type": "execute_result"
    }
   ],
   "source": [
    "set(train.macro_tema.unique()) == set(test.macro_tema.unique())"
   ]
  },
  {
   "cell_type": "code",
   "execution_count": 6,
   "metadata": {},
   "outputs": [
    {
     "data": {
      "text/plain": [
       "array(['direitos sexuais e reprodutivos', 'dignidade sexual',\n",
       "       'violencia contra a mulher', 'economia', 'maternidade',\n",
       "       'direitos sociais', 'lei maria da penha', 'genero', 'politica',\n",
       "       'feminicidio', 'outros'], dtype=object)"
      ]
     },
     "execution_count": 6,
     "metadata": {},
     "output_type": "execute_result"
    }
   ],
   "source": [
    "labels = test.macro_tema.unique()\n",
    "labels"
   ]
  },
  {
   "cell_type": "code",
   "execution_count": 7,
   "metadata": {},
   "outputs": [],
   "source": [
    "pipe = pipeline(model=\"MoritzLaurer/mDeBERTa-v3-base-mnli-xnli\")\n",
    "\n",
    "def classify_summary(summary,labels=labels):\n",
    "    result = pipe(summary, candidate_labels=labels)\n",
    "    return result[\"labels\"][0]\n"
   ]
  },
  {
   "cell_type": "code",
   "execution_count": 8,
   "metadata": {},
   "outputs": [
    {
     "data": {
      "text/plain": [
       "'violencia contra a mulher'"
      ]
     },
     "execution_count": 8,
     "metadata": {},
     "output_type": "execute_result"
    }
   ],
   "source": [
    "string_test = \"Institui a Campanha Nacional de Combate ao Assédio e à Violência Sexual \\\n",
    "                praticados contra crianças e adolescentes nos locais de prática desportiva e dá outras providências\"\n",
    "\n",
    "classify_summary(string_test)"
   ]
  },
  {
   "cell_type": "code",
   "execution_count": 8,
   "metadata": {},
   "outputs": [
    {
     "data": {
      "text/plain": [
       "mdeberta_pred\n",
       "violencia contra a mulher          94\n",
       "genero                             41\n",
       "lei maria da penha                 40\n",
       "maternidade                        32\n",
       "direitos sexuais e reprodutivos    32\n",
       "politica                           26\n",
       "direitos sociais                   23\n",
       "outros                             22\n",
       "dignidade sexual                    8\n",
       "feminicidio                         3\n",
       "Name: count, dtype: int64"
      ]
     },
     "execution_count": 8,
     "metadata": {},
     "output_type": "execute_result"
    }
   ],
   "source": [
    "test[\"mdeberta_pred\"] = test.resumo.apply(classify_summary)\n",
    "\n",
    "test[\"mdeberta_pred\"].value_counts()"
   ]
  },
  {
   "cell_type": "code",
   "execution_count": 11,
   "metadata": {},
   "outputs": [
    {
     "name": "stdout",
     "output_type": "stream",
     "text": [
      "                                 precision    recall  f1-score   support\n",
      "\n",
      "               dignidade sexual       0.62      0.17      0.27        29\n",
      "direitos sexuais e reprodutivos       0.25      0.26      0.25        31\n",
      "               direitos sociais       0.13      0.10      0.11        30\n",
      "                       economia       0.00      0.00      0.00        24\n",
      "                    feminicidio       0.67      0.25      0.36         8\n",
      "                         genero       0.15      0.32      0.20        19\n",
      "             lei maria da penha       0.57      0.66      0.61        35\n",
      "                    maternidade       0.56      0.56      0.56        32\n",
      "                         outros       0.00      0.00      0.00        10\n",
      "                       politica       0.08      0.15      0.10        13\n",
      "      violencia contra a mulher       0.53      0.56      0.54        90\n",
      "\n",
      "                       accuracy                           0.36       321\n",
      "                      macro avg       0.32      0.28      0.27       321\n",
      "                   weighted avg       0.39      0.36      0.36       321\n",
      "\n"
     ]
    },
    {
     "name": "stderr",
     "output_type": "stream",
     "text": [
      "/home/abitporu/Documents/azmina/.venv/lib/python3.10/site-packages/sklearn/metrics/_classification.py:1517: UndefinedMetricWarning: Precision is ill-defined and being set to 0.0 in labels with no predicted samples. Use `zero_division` parameter to control this behavior.\n",
      "  _warn_prf(average, modifier, f\"{metric.capitalize()} is\", len(result))\n",
      "/home/abitporu/Documents/azmina/.venv/lib/python3.10/site-packages/sklearn/metrics/_classification.py:1517: UndefinedMetricWarning: Precision is ill-defined and being set to 0.0 in labels with no predicted samples. Use `zero_division` parameter to control this behavior.\n",
      "  _warn_prf(average, modifier, f\"{metric.capitalize()} is\", len(result))\n",
      "/home/abitporu/Documents/azmina/.venv/lib/python3.10/site-packages/sklearn/metrics/_classification.py:1517: UndefinedMetricWarning: Precision is ill-defined and being set to 0.0 in labels with no predicted samples. Use `zero_division` parameter to control this behavior.\n",
      "  _warn_prf(average, modifier, f\"{metric.capitalize()} is\", len(result))\n"
     ]
    }
   ],
   "source": [
    "print(classification_report(test['macro_tema'], test['mdeberta_pred']))"
   ]
  },
  {
   "cell_type": "code",
   "execution_count": 9,
   "metadata": {},
   "outputs": [
    {
     "data": {
      "text/plain": [
       "bart_pred\n",
       "maternidade                        84\n",
       "violencia contra a mulher          67\n",
       "direitos sexuais e reprodutivos    38\n",
       "lei maria da penha                 34\n",
       "dignidade sexual                   28\n",
       "direitos sociais                   25\n",
       "genero                             23\n",
       "outros                             16\n",
       "politica                            4\n",
       "feminicidio                         2\n",
       "Name: count, dtype: int64"
      ]
     },
     "execution_count": 9,
     "metadata": {},
     "output_type": "execute_result"
    }
   ],
   "source": [
    "pipe = pipeline(model=\"facebook/bart-large-mnli\")\n",
    "\n",
    "def classify_summary(summary,labels=labels):\n",
    "    result = pipe(summary, candidate_labels=labels)\n",
    "    return result[\"labels\"][0]\n",
    "\n",
    "test[\"bart_pred\"] = test.resumo.apply(classify_summary)\n",
    "\n",
    "test[\"bart_pred\"].value_counts()"
   ]
  },
  {
   "cell_type": "code",
   "execution_count": 11,
   "metadata": {},
   "outputs": [
    {
     "name": "stdout",
     "output_type": "stream",
     "text": [
      "                                 precision    recall  f1-score   support\n",
      "\n",
      "               dignidade sexual       0.29      0.28      0.28        29\n",
      "direitos sexuais e reprodutivos       0.21      0.26      0.23        31\n",
      "               direitos sociais       0.08      0.07      0.07        30\n",
      "                       economia       0.00      0.00      0.00        24\n",
      "                    feminicidio       1.00      0.25      0.40         8\n",
      "                         genero       0.04      0.05      0.05        19\n",
      "             lei maria da penha       0.59      0.57      0.58        35\n",
      "                    maternidade       0.24      0.62      0.34        32\n",
      "                         outros       0.00      0.00      0.00        10\n",
      "                       politica       0.75      0.23      0.35        13\n",
      "      violencia contra a mulher       0.54      0.40      0.46        90\n",
      "\n",
      "                       accuracy                           0.31       321\n",
      "                      macro avg       0.34      0.25      0.25       321\n",
      "                   weighted avg       0.35      0.31      0.31       321\n",
      "\n"
     ]
    },
    {
     "name": "stderr",
     "output_type": "stream",
     "text": [
      "/home/abitporu/Documents/azmina/.venv/lib/python3.10/site-packages/sklearn/metrics/_classification.py:1517: UndefinedMetricWarning: Precision is ill-defined and being set to 0.0 in labels with no predicted samples. Use `zero_division` parameter to control this behavior.\n",
      "  _warn_prf(average, modifier, f\"{metric.capitalize()} is\", len(result))\n",
      "/home/abitporu/Documents/azmina/.venv/lib/python3.10/site-packages/sklearn/metrics/_classification.py:1517: UndefinedMetricWarning: Precision is ill-defined and being set to 0.0 in labels with no predicted samples. Use `zero_division` parameter to control this behavior.\n",
      "  _warn_prf(average, modifier, f\"{metric.capitalize()} is\", len(result))\n",
      "/home/abitporu/Documents/azmina/.venv/lib/python3.10/site-packages/sklearn/metrics/_classification.py:1517: UndefinedMetricWarning: Precision is ill-defined and being set to 0.0 in labels with no predicted samples. Use `zero_division` parameter to control this behavior.\n",
      "  _warn_prf(average, modifier, f\"{metric.capitalize()} is\", len(result))\n"
     ]
    }
   ],
   "source": [
    "print(classification_report(test['macro_tema'], test['bart_pred']))\n"
   ]
  }
 ],
 "metadata": {
  "kernelspec": {
   "display_name": ".venv",
   "language": "python",
   "name": "python3"
  },
  "language_info": {
   "codemirror_mode": {
    "name": "ipython",
    "version": 3
   },
   "file_extension": ".py",
   "mimetype": "text/x-python",
   "name": "python",
   "nbconvert_exporter": "python",
   "pygments_lexer": "ipython3",
   "version": "3.10.12"
  }
 },
 "nbformat": 4,
 "nbformat_minor": 2
}
