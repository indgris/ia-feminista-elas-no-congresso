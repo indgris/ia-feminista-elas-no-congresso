{
  "cells": [
    {
      "cell_type": "markdown",
      "metadata": {},
      "source": [
        "<a href=\"https://colab.research.google.com/github/institutoazmina/ia-feminista-elas-no-congresso/blob/main/modelos_tema/bert/avaliacao.ipynb\" target=\"_parent\"><img src=\"https://colab.research.google.com/assets/colab-badge.svg\" alt=\"Open In Colab\"/></a>"
      ]
    },
    {
      "cell_type": "markdown",
      "metadata": {
        "id": "sSbJwlh7Ivdc"
      },
      "source": [
        "# Setup"
      ]
    },
    {
      "cell_type": "code",
      "execution_count": 1,
      "metadata": {},
      "outputs": [
        {
          "name": "stdout",
          "output_type": "stream",
          "text": [
            "\u001b[33mWARNING: You are using pip version 22.0.4; however, version 24.2 is available.\n",
            "You should consider upgrading via the '/home/abitporu/.pyenv/versions/3.9.15/bin/python3.9 -m pip install --upgrade pip' command.\u001b[0m\u001b[33m\n",
            "\u001b[0m"
          ]
        }
      ],
      "source": [
        "#instala as bibliotecas\n",
        "!pip install datasets transformers nbformat>=4.2.0 -q"
      ]
    },
    {
      "cell_type": "code",
      "execution_count": 2,
      "metadata": {},
      "outputs": [
        {
          "name": "stderr",
          "output_type": "stream",
          "text": [
            "/home/abitporu/.pyenv/versions/3.9.15/lib/python3.9/site-packages/tqdm/auto.py:21: TqdmWarning: IProgress not found. Please update jupyter and ipywidgets. See https://ipywidgets.readthedocs.io/en/stable/user_install.html\n",
            "  from .autonotebook import tqdm as notebook_tqdm\n"
          ]
        }
      ],
      "source": [
        "from datasets import Dataset, load_dataset\n",
        "import torch"
      ]
    },
    {
      "cell_type": "markdown",
      "metadata": {},
      "source": [
        "# Carrega os dados"
      ]
    },
    {
      "cell_type": "code",
      "execution_count": 3,
      "metadata": {
        "id": "9mmNZTDmURQt"
      },
      "outputs": [],
      "source": [
        "#importa o dataset\n",
        "\n",
        "\n",
        "dataset = load_dataset(\"azmina/ementas_congresso\")"
      ]
    },
    {
      "cell_type": "code",
      "execution_count": 4,
      "metadata": {
        "id": "zlLT_I1AUamE"
      },
      "outputs": [],
      "source": [
        "cols = [\"text\",\"label\"]\n",
        "fix_columns = {\"label_tema\":\"label\"}\n",
        "\n",
        "test = dataset[\"test\"].to_pandas().rename(columns=fix_columns)[cols]"
      ]
    },
    {
      "cell_type": "code",
      "execution_count": 5,
      "metadata": {
        "colab": {
          "base_uri": "https://localhost:8080/"
        },
        "id": "1bbBX4BBUcQj",
        "outputId": "5a414145-afcd-45c5-ad56-3d2838d7d879"
      },
      "outputs": [],
      "source": [
        "from transformers import AutoModelForSequenceClassification, AutoConfig, AutoTokenizer\n",
        "\n",
        "model_name = \"azmina/ia-feminista-bert-tema\"\n",
        "tokenizer = \"neuralmind/bert-base-portuguese-cased\"\n",
        "\n",
        "# Carrega o modelo fine tunado e o tokenizer\n",
        "tokenizer = AutoTokenizer.from_pretrained(tokenizer)\n",
        "model = AutoModelForSequenceClassification.from_pretrained(model_name)\n"
      ]
    },
    {
      "cell_type": "code",
      "execution_count": 6,
      "metadata": {
        "colab": {
          "base_uri": "https://localhost:8080/"
        },
        "id": "Crdw0F7cUwhD",
        "outputId": "f68942cf-4077-4caf-a0d1-de911ff3e007"
      },
      "outputs": [
        {
          "data": {
            "text/plain": [
              "{0: 'economia',\n",
              " 1: 'genero',\n",
              " 2: 'dignidade sexual',\n",
              " 3: 'violencia contra a mulher',\n",
              " 4: 'politica',\n",
              " 5: 'direitos sexuais e reprodutivos',\n",
              " 6: 'direitos sociais',\n",
              " 7: 'maternidade',\n",
              " 8: 'feminicidio'}"
            ]
          },
          "execution_count": 6,
          "metadata": {},
          "output_type": "execute_result"
        }
      ],
      "source": [
        "# Nome dos temas para os rótulos\n",
        "config = AutoConfig.from_pretrained(model_name)\n",
        "\n",
        "class_mapping = config.id2label\n",
        "\n",
        "class_mapping"
      ]
    },
    {
      "cell_type": "code",
      "execution_count": 7,
      "metadata": {
        "colab": {
          "base_uri": "https://localhost:8080/"
        },
        "id": "ROz1KSv0AaWQ",
        "outputId": "eb590dce-b27b-410b-e91e-0343e3a13d0c"
      },
      "outputs": [
        {
          "data": {
            "text/plain": [
              "BertForSequenceClassification(\n",
              "  (bert): BertModel(\n",
              "    (embeddings): BertEmbeddings(\n",
              "      (word_embeddings): Embedding(29794, 1024, padding_idx=0)\n",
              "      (position_embeddings): Embedding(512, 1024)\n",
              "      (token_type_embeddings): Embedding(2, 1024)\n",
              "      (LayerNorm): LayerNorm((1024,), eps=1e-12, elementwise_affine=True)\n",
              "      (dropout): Dropout(p=0.05, inplace=False)\n",
              "    )\n",
              "    (encoder): BertEncoder(\n",
              "      (layer): ModuleList(\n",
              "        (0): BertLayer(\n",
              "          (attention): BertAttention(\n",
              "            (self): BertSelfAttention(\n",
              "              (query): Linear(in_features=1024, out_features=1024, bias=True)\n",
              "              (key): Linear(in_features=1024, out_features=1024, bias=True)\n",
              "              (value): Linear(in_features=1024, out_features=1024, bias=True)\n",
              "              (dropout): Dropout(p=0.05, inplace=False)\n",
              "            )\n",
              "            (output): BertSelfOutput(\n",
              "              (dense): Linear(in_features=1024, out_features=1024, bias=True)\n",
              "              (LayerNorm): LayerNorm((1024,), eps=1e-12, elementwise_affine=True)\n",
              "              (dropout): Dropout(p=0.05, inplace=False)\n",
              "            )\n",
              "          )\n",
              "          (intermediate): BertIntermediate(\n",
              "            (dense): Linear(in_features=1024, out_features=4096, bias=True)\n",
              "            (intermediate_act_fn): GELUActivation()\n",
              "          )\n",
              "          (output): BertOutput(\n",
              "            (dense): Linear(in_features=4096, out_features=1024, bias=True)\n",
              "            (LayerNorm): LayerNorm((1024,), eps=1e-12, elementwise_affine=True)\n",
              "            (dropout): Dropout(p=0.05, inplace=False)\n",
              "          )\n",
              "        )\n",
              "        (1): BertLayer(\n",
              "          (attention): BertAttention(\n",
              "            (self): BertSelfAttention(\n",
              "              (query): Linear(in_features=1024, out_features=1024, bias=True)\n",
              "              (key): Linear(in_features=1024, out_features=1024, bias=True)\n",
              "              (value): Linear(in_features=1024, out_features=1024, bias=True)\n",
              "              (dropout): Dropout(p=0.05, inplace=False)\n",
              "            )\n",
              "            (output): BertSelfOutput(\n",
              "              (dense): Linear(in_features=1024, out_features=1024, bias=True)\n",
              "              (LayerNorm): LayerNorm((1024,), eps=1e-12, elementwise_affine=True)\n",
              "              (dropout): Dropout(p=0.05, inplace=False)\n",
              "            )\n",
              "          )\n",
              "          (intermediate): BertIntermediate(\n",
              "            (dense): Linear(in_features=1024, out_features=4096, bias=True)\n",
              "            (intermediate_act_fn): GELUActivation()\n",
              "          )\n",
              "          (output): BertOutput(\n",
              "            (dense): Linear(in_features=4096, out_features=1024, bias=True)\n",
              "            (LayerNorm): LayerNorm((1024,), eps=1e-12, elementwise_affine=True)\n",
              "            (dropout): Dropout(p=0.05, inplace=False)\n",
              "          )\n",
              "        )\n",
              "        (2): BertLayer(\n",
              "          (attention): BertAttention(\n",
              "            (self): BertSelfAttention(\n",
              "              (query): Linear(in_features=1024, out_features=1024, bias=True)\n",
              "              (key): Linear(in_features=1024, out_features=1024, bias=True)\n",
              "              (value): Linear(in_features=1024, out_features=1024, bias=True)\n",
              "              (dropout): Dropout(p=0.05, inplace=False)\n",
              "            )\n",
              "            (output): BertSelfOutput(\n",
              "              (dense): Linear(in_features=1024, out_features=1024, bias=True)\n",
              "              (LayerNorm): LayerNorm((1024,), eps=1e-12, elementwise_affine=True)\n",
              "              (dropout): Dropout(p=0.05, inplace=False)\n",
              "            )\n",
              "          )\n",
              "          (intermediate): BertIntermediate(\n",
              "            (dense): Linear(in_features=1024, out_features=4096, bias=True)\n",
              "            (intermediate_act_fn): GELUActivation()\n",
              "          )\n",
              "          (output): BertOutput(\n",
              "            (dense): Linear(in_features=4096, out_features=1024, bias=True)\n",
              "            (LayerNorm): LayerNorm((1024,), eps=1e-12, elementwise_affine=True)\n",
              "            (dropout): Dropout(p=0.05, inplace=False)\n",
              "          )\n",
              "        )\n",
              "        (3): BertLayer(\n",
              "          (attention): BertAttention(\n",
              "            (self): BertSelfAttention(\n",
              "              (query): Linear(in_features=1024, out_features=1024, bias=True)\n",
              "              (key): Linear(in_features=1024, out_features=1024, bias=True)\n",
              "              (value): Linear(in_features=1024, out_features=1024, bias=True)\n",
              "              (dropout): Dropout(p=0.05, inplace=False)\n",
              "            )\n",
              "            (output): BertSelfOutput(\n",
              "              (dense): Linear(in_features=1024, out_features=1024, bias=True)\n",
              "              (LayerNorm): LayerNorm((1024,), eps=1e-12, elementwise_affine=True)\n",
              "              (dropout): Dropout(p=0.05, inplace=False)\n",
              "            )\n",
              "          )\n",
              "          (intermediate): BertIntermediate(\n",
              "            (dense): Linear(in_features=1024, out_features=4096, bias=True)\n",
              "            (intermediate_act_fn): GELUActivation()\n",
              "          )\n",
              "          (output): BertOutput(\n",
              "            (dense): Linear(in_features=4096, out_features=1024, bias=True)\n",
              "            (LayerNorm): LayerNorm((1024,), eps=1e-12, elementwise_affine=True)\n",
              "            (dropout): Dropout(p=0.05, inplace=False)\n",
              "          )\n",
              "        )\n",
              "        (4): BertLayer(\n",
              "          (attention): BertAttention(\n",
              "            (self): BertSelfAttention(\n",
              "              (query): Linear(in_features=1024, out_features=1024, bias=True)\n",
              "              (key): Linear(in_features=1024, out_features=1024, bias=True)\n",
              "              (value): Linear(in_features=1024, out_features=1024, bias=True)\n",
              "              (dropout): Dropout(p=0.05, inplace=False)\n",
              "            )\n",
              "            (output): BertSelfOutput(\n",
              "              (dense): Linear(in_features=1024, out_features=1024, bias=True)\n",
              "              (LayerNorm): LayerNorm((1024,), eps=1e-12, elementwise_affine=True)\n",
              "              (dropout): Dropout(p=0.05, inplace=False)\n",
              "            )\n",
              "          )\n",
              "          (intermediate): BertIntermediate(\n",
              "            (dense): Linear(in_features=1024, out_features=4096, bias=True)\n",
              "            (intermediate_act_fn): GELUActivation()\n",
              "          )\n",
              "          (output): BertOutput(\n",
              "            (dense): Linear(in_features=4096, out_features=1024, bias=True)\n",
              "            (LayerNorm): LayerNorm((1024,), eps=1e-12, elementwise_affine=True)\n",
              "            (dropout): Dropout(p=0.05, inplace=False)\n",
              "          )\n",
              "        )\n",
              "        (5): BertLayer(\n",
              "          (attention): BertAttention(\n",
              "            (self): BertSelfAttention(\n",
              "              (query): Linear(in_features=1024, out_features=1024, bias=True)\n",
              "              (key): Linear(in_features=1024, out_features=1024, bias=True)\n",
              "              (value): Linear(in_features=1024, out_features=1024, bias=True)\n",
              "              (dropout): Dropout(p=0.05, inplace=False)\n",
              "            )\n",
              "            (output): BertSelfOutput(\n",
              "              (dense): Linear(in_features=1024, out_features=1024, bias=True)\n",
              "              (LayerNorm): LayerNorm((1024,), eps=1e-12, elementwise_affine=True)\n",
              "              (dropout): Dropout(p=0.05, inplace=False)\n",
              "            )\n",
              "          )\n",
              "          (intermediate): BertIntermediate(\n",
              "            (dense): Linear(in_features=1024, out_features=4096, bias=True)\n",
              "            (intermediate_act_fn): GELUActivation()\n",
              "          )\n",
              "          (output): BertOutput(\n",
              "            (dense): Linear(in_features=4096, out_features=1024, bias=True)\n",
              "            (LayerNorm): LayerNorm((1024,), eps=1e-12, elementwise_affine=True)\n",
              "            (dropout): Dropout(p=0.05, inplace=False)\n",
              "          )\n",
              "        )\n",
              "        (6): BertLayer(\n",
              "          (attention): BertAttention(\n",
              "            (self): BertSelfAttention(\n",
              "              (query): Linear(in_features=1024, out_features=1024, bias=True)\n",
              "              (key): Linear(in_features=1024, out_features=1024, bias=True)\n",
              "              (value): Linear(in_features=1024, out_features=1024, bias=True)\n",
              "              (dropout): Dropout(p=0.05, inplace=False)\n",
              "            )\n",
              "            (output): BertSelfOutput(\n",
              "              (dense): Linear(in_features=1024, out_features=1024, bias=True)\n",
              "              (LayerNorm): LayerNorm((1024,), eps=1e-12, elementwise_affine=True)\n",
              "              (dropout): Dropout(p=0.05, inplace=False)\n",
              "            )\n",
              "          )\n",
              "          (intermediate): BertIntermediate(\n",
              "            (dense): Linear(in_features=1024, out_features=4096, bias=True)\n",
              "            (intermediate_act_fn): GELUActivation()\n",
              "          )\n",
              "          (output): BertOutput(\n",
              "            (dense): Linear(in_features=4096, out_features=1024, bias=True)\n",
              "            (LayerNorm): LayerNorm((1024,), eps=1e-12, elementwise_affine=True)\n",
              "            (dropout): Dropout(p=0.05, inplace=False)\n",
              "          )\n",
              "        )\n",
              "        (7): BertLayer(\n",
              "          (attention): BertAttention(\n",
              "            (self): BertSelfAttention(\n",
              "              (query): Linear(in_features=1024, out_features=1024, bias=True)\n",
              "              (key): Linear(in_features=1024, out_features=1024, bias=True)\n",
              "              (value): Linear(in_features=1024, out_features=1024, bias=True)\n",
              "              (dropout): Dropout(p=0.05, inplace=False)\n",
              "            )\n",
              "            (output): BertSelfOutput(\n",
              "              (dense): Linear(in_features=1024, out_features=1024, bias=True)\n",
              "              (LayerNorm): LayerNorm((1024,), eps=1e-12, elementwise_affine=True)\n",
              "              (dropout): Dropout(p=0.05, inplace=False)\n",
              "            )\n",
              "          )\n",
              "          (intermediate): BertIntermediate(\n",
              "            (dense): Linear(in_features=1024, out_features=4096, bias=True)\n",
              "            (intermediate_act_fn): GELUActivation()\n",
              "          )\n",
              "          (output): BertOutput(\n",
              "            (dense): Linear(in_features=4096, out_features=1024, bias=True)\n",
              "            (LayerNorm): LayerNorm((1024,), eps=1e-12, elementwise_affine=True)\n",
              "            (dropout): Dropout(p=0.05, inplace=False)\n",
              "          )\n",
              "        )\n",
              "        (8): BertLayer(\n",
              "          (attention): BertAttention(\n",
              "            (self): BertSelfAttention(\n",
              "              (query): Linear(in_features=1024, out_features=1024, bias=True)\n",
              "              (key): Linear(in_features=1024, out_features=1024, bias=True)\n",
              "              (value): Linear(in_features=1024, out_features=1024, bias=True)\n",
              "              (dropout): Dropout(p=0.05, inplace=False)\n",
              "            )\n",
              "            (output): BertSelfOutput(\n",
              "              (dense): Linear(in_features=1024, out_features=1024, bias=True)\n",
              "              (LayerNorm): LayerNorm((1024,), eps=1e-12, elementwise_affine=True)\n",
              "              (dropout): Dropout(p=0.05, inplace=False)\n",
              "            )\n",
              "          )\n",
              "          (intermediate): BertIntermediate(\n",
              "            (dense): Linear(in_features=1024, out_features=4096, bias=True)\n",
              "            (intermediate_act_fn): GELUActivation()\n",
              "          )\n",
              "          (output): BertOutput(\n",
              "            (dense): Linear(in_features=4096, out_features=1024, bias=True)\n",
              "            (LayerNorm): LayerNorm((1024,), eps=1e-12, elementwise_affine=True)\n",
              "            (dropout): Dropout(p=0.05, inplace=False)\n",
              "          )\n",
              "        )\n",
              "        (9): BertLayer(\n",
              "          (attention): BertAttention(\n",
              "            (self): BertSelfAttention(\n",
              "              (query): Linear(in_features=1024, out_features=1024, bias=True)\n",
              "              (key): Linear(in_features=1024, out_features=1024, bias=True)\n",
              "              (value): Linear(in_features=1024, out_features=1024, bias=True)\n",
              "              (dropout): Dropout(p=0.05, inplace=False)\n",
              "            )\n",
              "            (output): BertSelfOutput(\n",
              "              (dense): Linear(in_features=1024, out_features=1024, bias=True)\n",
              "              (LayerNorm): LayerNorm((1024,), eps=1e-12, elementwise_affine=True)\n",
              "              (dropout): Dropout(p=0.05, inplace=False)\n",
              "            )\n",
              "          )\n",
              "          (intermediate): BertIntermediate(\n",
              "            (dense): Linear(in_features=1024, out_features=4096, bias=True)\n",
              "            (intermediate_act_fn): GELUActivation()\n",
              "          )\n",
              "          (output): BertOutput(\n",
              "            (dense): Linear(in_features=4096, out_features=1024, bias=True)\n",
              "            (LayerNorm): LayerNorm((1024,), eps=1e-12, elementwise_affine=True)\n",
              "            (dropout): Dropout(p=0.05, inplace=False)\n",
              "          )\n",
              "        )\n",
              "        (10): BertLayer(\n",
              "          (attention): BertAttention(\n",
              "            (self): BertSelfAttention(\n",
              "              (query): Linear(in_features=1024, out_features=1024, bias=True)\n",
              "              (key): Linear(in_features=1024, out_features=1024, bias=True)\n",
              "              (value): Linear(in_features=1024, out_features=1024, bias=True)\n",
              "              (dropout): Dropout(p=0.05, inplace=False)\n",
              "            )\n",
              "            (output): BertSelfOutput(\n",
              "              (dense): Linear(in_features=1024, out_features=1024, bias=True)\n",
              "              (LayerNorm): LayerNorm((1024,), eps=1e-12, elementwise_affine=True)\n",
              "              (dropout): Dropout(p=0.05, inplace=False)\n",
              "            )\n",
              "          )\n",
              "          (intermediate): BertIntermediate(\n",
              "            (dense): Linear(in_features=1024, out_features=4096, bias=True)\n",
              "            (intermediate_act_fn): GELUActivation()\n",
              "          )\n",
              "          (output): BertOutput(\n",
              "            (dense): Linear(in_features=4096, out_features=1024, bias=True)\n",
              "            (LayerNorm): LayerNorm((1024,), eps=1e-12, elementwise_affine=True)\n",
              "            (dropout): Dropout(p=0.05, inplace=False)\n",
              "          )\n",
              "        )\n",
              "        (11): BertLayer(\n",
              "          (attention): BertAttention(\n",
              "            (self): BertSelfAttention(\n",
              "              (query): Linear(in_features=1024, out_features=1024, bias=True)\n",
              "              (key): Linear(in_features=1024, out_features=1024, bias=True)\n",
              "              (value): Linear(in_features=1024, out_features=1024, bias=True)\n",
              "              (dropout): Dropout(p=0.05, inplace=False)\n",
              "            )\n",
              "            (output): BertSelfOutput(\n",
              "              (dense): Linear(in_features=1024, out_features=1024, bias=True)\n",
              "              (LayerNorm): LayerNorm((1024,), eps=1e-12, elementwise_affine=True)\n",
              "              (dropout): Dropout(p=0.05, inplace=False)\n",
              "            )\n",
              "          )\n",
              "          (intermediate): BertIntermediate(\n",
              "            (dense): Linear(in_features=1024, out_features=4096, bias=True)\n",
              "            (intermediate_act_fn): GELUActivation()\n",
              "          )\n",
              "          (output): BertOutput(\n",
              "            (dense): Linear(in_features=4096, out_features=1024, bias=True)\n",
              "            (LayerNorm): LayerNorm((1024,), eps=1e-12, elementwise_affine=True)\n",
              "            (dropout): Dropout(p=0.05, inplace=False)\n",
              "          )\n",
              "        )\n",
              "        (12): BertLayer(\n",
              "          (attention): BertAttention(\n",
              "            (self): BertSelfAttention(\n",
              "              (query): Linear(in_features=1024, out_features=1024, bias=True)\n",
              "              (key): Linear(in_features=1024, out_features=1024, bias=True)\n",
              "              (value): Linear(in_features=1024, out_features=1024, bias=True)\n",
              "              (dropout): Dropout(p=0.05, inplace=False)\n",
              "            )\n",
              "            (output): BertSelfOutput(\n",
              "              (dense): Linear(in_features=1024, out_features=1024, bias=True)\n",
              "              (LayerNorm): LayerNorm((1024,), eps=1e-12, elementwise_affine=True)\n",
              "              (dropout): Dropout(p=0.05, inplace=False)\n",
              "            )\n",
              "          )\n",
              "          (intermediate): BertIntermediate(\n",
              "            (dense): Linear(in_features=1024, out_features=4096, bias=True)\n",
              "            (intermediate_act_fn): GELUActivation()\n",
              "          )\n",
              "          (output): BertOutput(\n",
              "            (dense): Linear(in_features=4096, out_features=1024, bias=True)\n",
              "            (LayerNorm): LayerNorm((1024,), eps=1e-12, elementwise_affine=True)\n",
              "            (dropout): Dropout(p=0.05, inplace=False)\n",
              "          )\n",
              "        )\n",
              "        (13): BertLayer(\n",
              "          (attention): BertAttention(\n",
              "            (self): BertSelfAttention(\n",
              "              (query): Linear(in_features=1024, out_features=1024, bias=True)\n",
              "              (key): Linear(in_features=1024, out_features=1024, bias=True)\n",
              "              (value): Linear(in_features=1024, out_features=1024, bias=True)\n",
              "              (dropout): Dropout(p=0.05, inplace=False)\n",
              "            )\n",
              "            (output): BertSelfOutput(\n",
              "              (dense): Linear(in_features=1024, out_features=1024, bias=True)\n",
              "              (LayerNorm): LayerNorm((1024,), eps=1e-12, elementwise_affine=True)\n",
              "              (dropout): Dropout(p=0.05, inplace=False)\n",
              "            )\n",
              "          )\n",
              "          (intermediate): BertIntermediate(\n",
              "            (dense): Linear(in_features=1024, out_features=4096, bias=True)\n",
              "            (intermediate_act_fn): GELUActivation()\n",
              "          )\n",
              "          (output): BertOutput(\n",
              "            (dense): Linear(in_features=4096, out_features=1024, bias=True)\n",
              "            (LayerNorm): LayerNorm((1024,), eps=1e-12, elementwise_affine=True)\n",
              "            (dropout): Dropout(p=0.05, inplace=False)\n",
              "          )\n",
              "        )\n",
              "        (14): BertLayer(\n",
              "          (attention): BertAttention(\n",
              "            (self): BertSelfAttention(\n",
              "              (query): Linear(in_features=1024, out_features=1024, bias=True)\n",
              "              (key): Linear(in_features=1024, out_features=1024, bias=True)\n",
              "              (value): Linear(in_features=1024, out_features=1024, bias=True)\n",
              "              (dropout): Dropout(p=0.05, inplace=False)\n",
              "            )\n",
              "            (output): BertSelfOutput(\n",
              "              (dense): Linear(in_features=1024, out_features=1024, bias=True)\n",
              "              (LayerNorm): LayerNorm((1024,), eps=1e-12, elementwise_affine=True)\n",
              "              (dropout): Dropout(p=0.05, inplace=False)\n",
              "            )\n",
              "          )\n",
              "          (intermediate): BertIntermediate(\n",
              "            (dense): Linear(in_features=1024, out_features=4096, bias=True)\n",
              "            (intermediate_act_fn): GELUActivation()\n",
              "          )\n",
              "          (output): BertOutput(\n",
              "            (dense): Linear(in_features=4096, out_features=1024, bias=True)\n",
              "            (LayerNorm): LayerNorm((1024,), eps=1e-12, elementwise_affine=True)\n",
              "            (dropout): Dropout(p=0.05, inplace=False)\n",
              "          )\n",
              "        )\n",
              "        (15): BertLayer(\n",
              "          (attention): BertAttention(\n",
              "            (self): BertSelfAttention(\n",
              "              (query): Linear(in_features=1024, out_features=1024, bias=True)\n",
              "              (key): Linear(in_features=1024, out_features=1024, bias=True)\n",
              "              (value): Linear(in_features=1024, out_features=1024, bias=True)\n",
              "              (dropout): Dropout(p=0.05, inplace=False)\n",
              "            )\n",
              "            (output): BertSelfOutput(\n",
              "              (dense): Linear(in_features=1024, out_features=1024, bias=True)\n",
              "              (LayerNorm): LayerNorm((1024,), eps=1e-12, elementwise_affine=True)\n",
              "              (dropout): Dropout(p=0.05, inplace=False)\n",
              "            )\n",
              "          )\n",
              "          (intermediate): BertIntermediate(\n",
              "            (dense): Linear(in_features=1024, out_features=4096, bias=True)\n",
              "            (intermediate_act_fn): GELUActivation()\n",
              "          )\n",
              "          (output): BertOutput(\n",
              "            (dense): Linear(in_features=4096, out_features=1024, bias=True)\n",
              "            (LayerNorm): LayerNorm((1024,), eps=1e-12, elementwise_affine=True)\n",
              "            (dropout): Dropout(p=0.05, inplace=False)\n",
              "          )\n",
              "        )\n",
              "        (16): BertLayer(\n",
              "          (attention): BertAttention(\n",
              "            (self): BertSelfAttention(\n",
              "              (query): Linear(in_features=1024, out_features=1024, bias=True)\n",
              "              (key): Linear(in_features=1024, out_features=1024, bias=True)\n",
              "              (value): Linear(in_features=1024, out_features=1024, bias=True)\n",
              "              (dropout): Dropout(p=0.05, inplace=False)\n",
              "            )\n",
              "            (output): BertSelfOutput(\n",
              "              (dense): Linear(in_features=1024, out_features=1024, bias=True)\n",
              "              (LayerNorm): LayerNorm((1024,), eps=1e-12, elementwise_affine=True)\n",
              "              (dropout): Dropout(p=0.05, inplace=False)\n",
              "            )\n",
              "          )\n",
              "          (intermediate): BertIntermediate(\n",
              "            (dense): Linear(in_features=1024, out_features=4096, bias=True)\n",
              "            (intermediate_act_fn): GELUActivation()\n",
              "          )\n",
              "          (output): BertOutput(\n",
              "            (dense): Linear(in_features=4096, out_features=1024, bias=True)\n",
              "            (LayerNorm): LayerNorm((1024,), eps=1e-12, elementwise_affine=True)\n",
              "            (dropout): Dropout(p=0.05, inplace=False)\n",
              "          )\n",
              "        )\n",
              "        (17): BertLayer(\n",
              "          (attention): BertAttention(\n",
              "            (self): BertSelfAttention(\n",
              "              (query): Linear(in_features=1024, out_features=1024, bias=True)\n",
              "              (key): Linear(in_features=1024, out_features=1024, bias=True)\n",
              "              (value): Linear(in_features=1024, out_features=1024, bias=True)\n",
              "              (dropout): Dropout(p=0.05, inplace=False)\n",
              "            )\n",
              "            (output): BertSelfOutput(\n",
              "              (dense): Linear(in_features=1024, out_features=1024, bias=True)\n",
              "              (LayerNorm): LayerNorm((1024,), eps=1e-12, elementwise_affine=True)\n",
              "              (dropout): Dropout(p=0.05, inplace=False)\n",
              "            )\n",
              "          )\n",
              "          (intermediate): BertIntermediate(\n",
              "            (dense): Linear(in_features=1024, out_features=4096, bias=True)\n",
              "            (intermediate_act_fn): GELUActivation()\n",
              "          )\n",
              "          (output): BertOutput(\n",
              "            (dense): Linear(in_features=4096, out_features=1024, bias=True)\n",
              "            (LayerNorm): LayerNorm((1024,), eps=1e-12, elementwise_affine=True)\n",
              "            (dropout): Dropout(p=0.05, inplace=False)\n",
              "          )\n",
              "        )\n",
              "        (18): BertLayer(\n",
              "          (attention): BertAttention(\n",
              "            (self): BertSelfAttention(\n",
              "              (query): Linear(in_features=1024, out_features=1024, bias=True)\n",
              "              (key): Linear(in_features=1024, out_features=1024, bias=True)\n",
              "              (value): Linear(in_features=1024, out_features=1024, bias=True)\n",
              "              (dropout): Dropout(p=0.05, inplace=False)\n",
              "            )\n",
              "            (output): BertSelfOutput(\n",
              "              (dense): Linear(in_features=1024, out_features=1024, bias=True)\n",
              "              (LayerNorm): LayerNorm((1024,), eps=1e-12, elementwise_affine=True)\n",
              "              (dropout): Dropout(p=0.05, inplace=False)\n",
              "            )\n",
              "          )\n",
              "          (intermediate): BertIntermediate(\n",
              "            (dense): Linear(in_features=1024, out_features=4096, bias=True)\n",
              "            (intermediate_act_fn): GELUActivation()\n",
              "          )\n",
              "          (output): BertOutput(\n",
              "            (dense): Linear(in_features=4096, out_features=1024, bias=True)\n",
              "            (LayerNorm): LayerNorm((1024,), eps=1e-12, elementwise_affine=True)\n",
              "            (dropout): Dropout(p=0.05, inplace=False)\n",
              "          )\n",
              "        )\n",
              "        (19): BertLayer(\n",
              "          (attention): BertAttention(\n",
              "            (self): BertSelfAttention(\n",
              "              (query): Linear(in_features=1024, out_features=1024, bias=True)\n",
              "              (key): Linear(in_features=1024, out_features=1024, bias=True)\n",
              "              (value): Linear(in_features=1024, out_features=1024, bias=True)\n",
              "              (dropout): Dropout(p=0.05, inplace=False)\n",
              "            )\n",
              "            (output): BertSelfOutput(\n",
              "              (dense): Linear(in_features=1024, out_features=1024, bias=True)\n",
              "              (LayerNorm): LayerNorm((1024,), eps=1e-12, elementwise_affine=True)\n",
              "              (dropout): Dropout(p=0.05, inplace=False)\n",
              "            )\n",
              "          )\n",
              "          (intermediate): BertIntermediate(\n",
              "            (dense): Linear(in_features=1024, out_features=4096, bias=True)\n",
              "            (intermediate_act_fn): GELUActivation()\n",
              "          )\n",
              "          (output): BertOutput(\n",
              "            (dense): Linear(in_features=4096, out_features=1024, bias=True)\n",
              "            (LayerNorm): LayerNorm((1024,), eps=1e-12, elementwise_affine=True)\n",
              "            (dropout): Dropout(p=0.05, inplace=False)\n",
              "          )\n",
              "        )\n",
              "        (20): BertLayer(\n",
              "          (attention): BertAttention(\n",
              "            (self): BertSelfAttention(\n",
              "              (query): Linear(in_features=1024, out_features=1024, bias=True)\n",
              "              (key): Linear(in_features=1024, out_features=1024, bias=True)\n",
              "              (value): Linear(in_features=1024, out_features=1024, bias=True)\n",
              "              (dropout): Dropout(p=0.05, inplace=False)\n",
              "            )\n",
              "            (output): BertSelfOutput(\n",
              "              (dense): Linear(in_features=1024, out_features=1024, bias=True)\n",
              "              (LayerNorm): LayerNorm((1024,), eps=1e-12, elementwise_affine=True)\n",
              "              (dropout): Dropout(p=0.05, inplace=False)\n",
              "            )\n",
              "          )\n",
              "          (intermediate): BertIntermediate(\n",
              "            (dense): Linear(in_features=1024, out_features=4096, bias=True)\n",
              "            (intermediate_act_fn): GELUActivation()\n",
              "          )\n",
              "          (output): BertOutput(\n",
              "            (dense): Linear(in_features=4096, out_features=1024, bias=True)\n",
              "            (LayerNorm): LayerNorm((1024,), eps=1e-12, elementwise_affine=True)\n",
              "            (dropout): Dropout(p=0.05, inplace=False)\n",
              "          )\n",
              "        )\n",
              "        (21): BertLayer(\n",
              "          (attention): BertAttention(\n",
              "            (self): BertSelfAttention(\n",
              "              (query): Linear(in_features=1024, out_features=1024, bias=True)\n",
              "              (key): Linear(in_features=1024, out_features=1024, bias=True)\n",
              "              (value): Linear(in_features=1024, out_features=1024, bias=True)\n",
              "              (dropout): Dropout(p=0.05, inplace=False)\n",
              "            )\n",
              "            (output): BertSelfOutput(\n",
              "              (dense): Linear(in_features=1024, out_features=1024, bias=True)\n",
              "              (LayerNorm): LayerNorm((1024,), eps=1e-12, elementwise_affine=True)\n",
              "              (dropout): Dropout(p=0.05, inplace=False)\n",
              "            )\n",
              "          )\n",
              "          (intermediate): BertIntermediate(\n",
              "            (dense): Linear(in_features=1024, out_features=4096, bias=True)\n",
              "            (intermediate_act_fn): GELUActivation()\n",
              "          )\n",
              "          (output): BertOutput(\n",
              "            (dense): Linear(in_features=4096, out_features=1024, bias=True)\n",
              "            (LayerNorm): LayerNorm((1024,), eps=1e-12, elementwise_affine=True)\n",
              "            (dropout): Dropout(p=0.05, inplace=False)\n",
              "          )\n",
              "        )\n",
              "        (22): BertLayer(\n",
              "          (attention): BertAttention(\n",
              "            (self): BertSelfAttention(\n",
              "              (query): Linear(in_features=1024, out_features=1024, bias=True)\n",
              "              (key): Linear(in_features=1024, out_features=1024, bias=True)\n",
              "              (value): Linear(in_features=1024, out_features=1024, bias=True)\n",
              "              (dropout): Dropout(p=0.05, inplace=False)\n",
              "            )\n",
              "            (output): BertSelfOutput(\n",
              "              (dense): Linear(in_features=1024, out_features=1024, bias=True)\n",
              "              (LayerNorm): LayerNorm((1024,), eps=1e-12, elementwise_affine=True)\n",
              "              (dropout): Dropout(p=0.05, inplace=False)\n",
              "            )\n",
              "          )\n",
              "          (intermediate): BertIntermediate(\n",
              "            (dense): Linear(in_features=1024, out_features=4096, bias=True)\n",
              "            (intermediate_act_fn): GELUActivation()\n",
              "          )\n",
              "          (output): BertOutput(\n",
              "            (dense): Linear(in_features=4096, out_features=1024, bias=True)\n",
              "            (LayerNorm): LayerNorm((1024,), eps=1e-12, elementwise_affine=True)\n",
              "            (dropout): Dropout(p=0.05, inplace=False)\n",
              "          )\n",
              "        )\n",
              "        (23): BertLayer(\n",
              "          (attention): BertAttention(\n",
              "            (self): BertSelfAttention(\n",
              "              (query): Linear(in_features=1024, out_features=1024, bias=True)\n",
              "              (key): Linear(in_features=1024, out_features=1024, bias=True)\n",
              "              (value): Linear(in_features=1024, out_features=1024, bias=True)\n",
              "              (dropout): Dropout(p=0.05, inplace=False)\n",
              "            )\n",
              "            (output): BertSelfOutput(\n",
              "              (dense): Linear(in_features=1024, out_features=1024, bias=True)\n",
              "              (LayerNorm): LayerNorm((1024,), eps=1e-12, elementwise_affine=True)\n",
              "              (dropout): Dropout(p=0.05, inplace=False)\n",
              "            )\n",
              "          )\n",
              "          (intermediate): BertIntermediate(\n",
              "            (dense): Linear(in_features=1024, out_features=4096, bias=True)\n",
              "            (intermediate_act_fn): GELUActivation()\n",
              "          )\n",
              "          (output): BertOutput(\n",
              "            (dense): Linear(in_features=4096, out_features=1024, bias=True)\n",
              "            (LayerNorm): LayerNorm((1024,), eps=1e-12, elementwise_affine=True)\n",
              "            (dropout): Dropout(p=0.05, inplace=False)\n",
              "          )\n",
              "        )\n",
              "      )\n",
              "    )\n",
              "    (pooler): BertPooler(\n",
              "      (dense): Linear(in_features=1024, out_features=1024, bias=True)\n",
              "      (activation): Tanh()\n",
              "    )\n",
              "  )\n",
              "  (dropout): Dropout(p=0.05, inplace=False)\n",
              "  (classifier): Linear(in_features=1024, out_features=9, bias=True)\n",
              ")"
            ]
          },
          "execution_count": 7,
          "metadata": {},
          "output_type": "execute_result"
        }
      ],
      "source": [
        "from torch import cuda\n",
        "device = 'cuda' if cuda.is_available() else 'cpu'\n",
        "model.to(device)"
      ]
    },
    {
      "cell_type": "code",
      "execution_count": 8,
      "metadata": {
        "id": "G_cd03RGU9hQ"
      },
      "outputs": [
        {
          "name": "stderr",
          "output_type": "stream",
          "text": [
            "  1%|          | 2/168 [00:00<00:13, 12.64it/s]"
          ]
        },
        {
          "name": "stderr",
          "output_type": "stream",
          "text": [
            "100%|██████████| 168/168 [00:25<00:00,  6.64it/s]\n"
          ]
        }
      ],
      "source": [
        "#inferências do modelo nos dados de teste\n",
        "from tqdm import tqdm\n",
        "tqdm.pandas()\n",
        "\n",
        "def inference(string):\n",
        "    tokens = tokenizer(string, truncation=True, max_length=512, return_tensors=\"pt\")\n",
        "    tokens = {key: value.to(device) for key, value in tokens.items()}\n",
        "    with torch.no_grad():\n",
        "        outputs = model(**tokens)\n",
        "\n",
        "    predicted_index = outputs.logits.argmax(dim=-1).item()\n",
        "    predicted_class = class_mapping[predicted_index]\n",
        "    all_proba = outputs.logits.softmax(dim=-1).tolist()[0]\n",
        "    pred_proba = all_proba[predicted_index]\n",
        "\n",
        "    return predicted_class, all_proba, pred_proba\n",
        "\n",
        "\n",
        "test[\"pred_label\"], test[\"all_proba\"], test[\"pred_proba\"] = zip(*test[\"text\"].progress_apply(lambda x: inference(x)))"
      ]
    },
    {
      "cell_type": "code",
      "execution_count": 9,
      "metadata": {
        "colab": {
          "base_uri": "https://localhost:8080/",
          "height": 564
        },
        "id": "Ipy4aN-zcYm4",
        "outputId": "3c657653-f638-4f86-8278-a116aeff2091"
      },
      "outputs": [
        {
          "data": {
            "image/png": "[encoded data removed]",
            "text/plain": [
              "<Figure size 800x600 with 1 Axes>"
            ]
          },
          "metadata": {},
          "output_type": "display_data"
        }
      ],
      "source": [
        "import matplotlib.pyplot as plt\n",
        "from sklearn.metrics import top_k_accuracy_score\n",
        "unique_labels = list(class_mapping.values())\n",
        "\n",
        "# Mapeia o nome das labels ecom os index\n",
        "label_to_index = {label: idx for idx, label in enumerate(class_mapping.values())}\n",
        "\n",
        "test['label_indices'] = test['label'].map(label_to_index)\n",
        "top_k_accuracies = {}\n",
        "top_k = len(unique_labels) - 1\n",
        "\n",
        "for k in range(1, top_k):\n",
        "    top_k_acc = top_k_accuracy_score(test['label_indices'].tolist(), test['all_proba'].tolist(), k=k)\n",
        "    top_k_accuracies[k] = top_k_acc\n",
        "\n",
        "# Plot dos resultados\n",
        "plt.figure(figsize=(8, 6))\n",
        "plt.plot(list(top_k_accuracies.keys()), list(top_k_accuracies.values()), marker='o', linestyle='-', color='b')\n",
        "plt.title(f'Top-k Accuracy for k = 1 to {top_k}')\n",
        "plt.xlabel('k value')\n",
        "plt.ylabel('Top-k Accuracy')\n",
        "plt.xticks(range(1, top_k))  \n",
        "plt.grid(True)\n",
        "plt.show()\n"
      ]
    },
    {
      "cell_type": "code",
      "execution_count": 10,
      "metadata": {
        "colab": {
          "base_uri": "https://localhost:8080/"
        },
        "id": "wsr2sjLpAlm5",
        "outputId": "a18801ed-446c-4a69-98c3-6532a8eefd3c"
      },
      "outputs": [
        {
          "name": "stdout",
          "output_type": "stream",
          "text": [
            "                                 precision    recall  f1-score   support\n",
            "\n",
            "               dignidade sexual       0.94      0.88      0.91        17\n",
            "direitos sexuais e reprodutivos       0.89      0.84      0.86        19\n",
            "               direitos sociais       0.61      0.58      0.59        19\n",
            "                       economia       0.78      0.50      0.61        14\n",
            "                    feminicidio       0.67      0.80      0.73         5\n",
            "                         genero       0.81      1.00      0.90        13\n",
            "                    maternidade       0.70      0.74      0.72        19\n",
            "                       politica       1.00      0.88      0.93         8\n",
            "      violencia contra a mulher       0.86      0.93      0.89        54\n",
            "\n",
            "                       accuracy                           0.82       168\n",
            "                      macro avg       0.81      0.79      0.79       168\n",
            "                   weighted avg       0.82      0.82      0.81       168\n",
            "\n"
          ]
        }
      ],
      "source": [
        "#Métricas da avaliação do modelo\n",
        "from sklearn.metrics import accuracy_score, recall_score, precision_score, roc_auc_score, \\\n",
        "                            classification_report, f1_score, precision_recall_fscore_support\n",
        "\n",
        "\n",
        "print(classification_report(test['label'].tolist(), test[\"pred_label\"].to_list()))\n"
      ]
    },
    {
      "cell_type": "code",
      "execution_count": 11,
      "metadata": {
        "colab": {
          "base_uri": "https://localhost:8080/",
          "height": 840
        },
        "id": "dPEpOuCARklc",
        "outputId": "a3d37d04-d690-4000-f3fa-5b5ce138ca8c"
      },
      "outputs": [
        {
          "data": {
            "image/png": "[encoded data removed]",
            "text/plain": [
              "<Figure size 1000x700 with 2 Axes>"
            ]
          },
          "metadata": {},
          "output_type": "display_data"
        }
      ],
      "source": [
        "#Matriz de confusão\n",
        "from sklearn.metrics import confusion_matrix\n",
        "import matplotlib.pyplot as plt\n",
        "import seaborn as sns\n",
        "import numpy as np\n",
        "\n",
        "\n",
        "cm = confusion_matrix(test['label'].tolist(), test[\"pred_label\"].to_list())\n",
        "cm_percent = cm.astype('float') / cm.sum(axis=1)[:, np.newaxis] * 100\n",
        "cm_percent = np.round(cm_percent, 1)\n",
        "\n",
        "#Plot da matriz\n",
        "plt.figure(figsize=(10, 7))\n",
        "sns.heatmap(cm_percent, annot=True, fmt='.1f', cmap='Blues', xticklabels=list(class_mapping.values()), yticklabels=list(class_mapping.values()))\n",
        "plt.xlabel('Rótulo predito')\n",
        "plt.ylabel('Rótulo verdadeiro')\n",
        "plt.title('Matriz de confusão')\n",
        "plt.show()\n"
      ]
    },
    {
      "cell_type": "code",
      "execution_count": 12,
      "metadata": {
        "colab": {
          "base_uri": "https://localhost:8080/",
          "height": 617
        },
        "id": "mECICRuVQQmt",
        "outputId": "0e24131e-002a-4e48-b3ff-27d2cd7c80eb"
      },
      "outputs": [
        {
          "data": {
            "application/vnd.plotly.v1+json": {
              "config": {
                "plotlyServerURL": "https://plot.ly"
              },
              "data": [
                {
                  "mode": "lines",
                  "name": "dignidade sexual (area = 0.94)",
                  "type": "scatter",
                  "x": [
                    0,
                    0.010101010101010102,
                    0.020202020202020204,
                    0.030303030303030304,
                    0.04040404040404041,
                    0.05050505050505051,
                    0.06060606060606061,
                    0.07070707070707072,
                    0.08080808080808081,
                    0.09090909090909091,
                    0.10101010101010102,
                    0.11111111111111112,
                    0.12121212121212122,
                    0.13131313131313133,
                    0.14141414141414144,
                    0.15151515151515152,
                    0.16161616161616163,
                    0.17171717171717174,
                    0.18181818181818182,
                    0.19191919191919193,
                    0.20202020202020204,
                    0.21212121212121213,
                    0.22222222222222224,
                    0.23232323232323235,
                    0.24242424242424243,
                    0.25252525252525254,
                    0.26262626262626265,
                    0.27272727272727276,
                    0.2828282828282829,
                    0.29292929292929293,
                    0.30303030303030304,
                    0.31313131313131315,
                    0.32323232323232326,
                    0.33333333333333337,
                    0.3434343434343435,
                    0.3535353535353536,
                    0.36363636363636365,
                    0.37373737373737376,
                    0.38383838383838387,
                    0.393939393939394,
                    0.4040404040404041,
                    0.4141414141414142,
                    0.42424242424242425,
                    0.43434343434343436,
                    0.4444444444444445,
                    0.4545454545454546,
                    0.4646464646464647,
                    0.4747474747474748,
                    0.48484848484848486,
                    0.494949494949495,
                    0.5050505050505051,
                    0.5151515151515152,
                    0.5252525252525253,
                    0.5353535353535354,
                    0.5454545454545455,
                    0.5555555555555556,
                    0.5656565656565657,
                    0.5757575757575758,
                    0.5858585858585859,
                    0.595959595959596,
                    0.6060606060606061,
                    0.6161616161616162,
                    0.6262626262626263,
                    0.6363636363636365,
                    0.6464646464646465,
                    0.6565656565656566,
                    0.6666666666666667,
                    0.6767676767676768,
                    0.686868686868687,
                    0.696969696969697,
                    0.7070707070707072,
                    0.7171717171717172,
                    0.7272727272727273,
                    0.7373737373737375,
                    0.7474747474747475,
                    0.7575757575757577,
                    0.7676767676767677,
                    0.7777777777777778,
                    0.787878787878788,
                    0.797979797979798,
                    0.8080808080808082,
                    0.8181818181818182,
                    0.8282828282828284,
                    0.8383838383838385,
                    0.8484848484848485,
                    0.8585858585858587,
                    0.8686868686868687,
                    0.8787878787878789,
                    0.888888888888889,
                    0.8989898989898991,
                    0.9090909090909092,
                    0.9191919191919192,
                    0.9292929292929294,
                    0.9393939393939394,
                    0.9494949494949496,
                    0.9595959595959597,
                    0.9696969696969697,
                    0.9797979797979799,
                    0.98989898989899,
                    1
                  ],
                  "y": [
                    0,
                    0.8827649039413745,
                    0.8839611804317686,
                    0.8851574569221627,
                    0.886353733412557,
                    0.8875500099029511,
                    0.8887462863933452,
                    0.8899425628837393,
                    0.8911388393741335,
                    0.8923351158645276,
                    0.8935313923549217,
                    0.8947276688453158,
                    0.8959239453357101,
                    0.8971202218261042,
                    0.8983164983164983,
                    0.8995127748068924,
                    0.9007090512972866,
                    0.9019053277876807,
                    0.9031016042780748,
                    0.904297880768469,
                    0.9054941572588632,
                    0.9066904337492573,
                    0.9078867102396514,
                    0.9090829867300455,
                    0.9102792632204397,
                    0.9114755397108338,
                    0.912671816201228,
                    0.9138680926916221,
                    0.9150643691820163,
                    0.9162606456724104,
                    0.9174569221628045,
                    0.9186531986531986,
                    0.9198494751435928,
                    0.9210457516339869,
                    0.922242028124381,
                    0.9234383046147752,
                    0.9246345811051693,
                    0.9258308575955635,
                    0.9270271340859576,
                    0.9282234105763517,
                    0.9294196870667459,
                    0.93061596355714,
                    0.9318122400475342,
                    0.9330085165379283,
                    0.9342047930283224,
                    0.9354010695187166,
                    0.9365973460091107,
                    0.9377936224995048,
                    0.938989898989899,
                    0.9401861754802932,
                    0.9413824519706873,
                    0.9425787284610814,
                    0.9437750049514755,
                    0.9449712814418697,
                    0.9461675579322638,
                    0.9473638344226579,
                    0.9485601109130521,
                    0.9497563874034463,
                    0.9509526638938404,
                    0.9521489403842345,
                    0.9533452168746286,
                    0.9545414933650228,
                    0.9557377698554169,
                    0.956934046345811,
                    0.9581303228362051,
                    0.9593265993265994,
                    0.9605228758169935,
                    0.9617191523073876,
                    0.9629154287977817,
                    0.9641117052881759,
                    0.96530798177857,
                    0.9665042582689641,
                    0.9677005347593582,
                    0.9688968112497525,
                    0.9700930877401466,
                    0.9712893642305407,
                    0.9724856407209348,
                    0.973681917211329,
                    0.9748781937017231,
                    0.9760744701921172,
                    0.9772707466825115,
                    0.9784670231729056,
                    0.9796632996632997,
                    0.9808595761536938,
                    0.9820558526440879,
                    0.9832521291344821,
                    0.9844484056248762,
                    0.9856446821152703,
                    0.9868409586056645,
                    0.9880372350960587,
                    0.9892335115864528,
                    0.9904297880768469,
                    0.991626064567241,
                    0.9928223410576352,
                    0.9940186175480293,
                    0.9952148940384234,
                    0.9964111705288176,
                    0.9976074470192118,
                    0.9988037235096059,
                    1
                  ]
                },
                {
                  "mode": "lines",
                  "name": "direitos sexuais e reprodutivos (area = 0.91)",
                  "type": "scatter",
                  "x": [
                    0,
                    0.010101010101010102,
                    0.020202020202020204,
                    0.030303030303030304,
                    0.04040404040404041,
                    0.05050505050505051,
                    0.06060606060606061,
                    0.07070707070707072,
                    0.08080808080808081,
                    0.09090909090909091,
                    0.10101010101010102,
                    0.11111111111111112,
                    0.12121212121212122,
                    0.13131313131313133,
                    0.14141414141414144,
                    0.15151515151515152,
                    0.16161616161616163,
                    0.17171717171717174,
                    0.18181818181818182,
                    0.19191919191919193,
                    0.20202020202020204,
                    0.21212121212121213,
                    0.22222222222222224,
                    0.23232323232323235,
                    0.24242424242424243,
                    0.25252525252525254,
                    0.26262626262626265,
                    0.27272727272727276,
                    0.2828282828282829,
                    0.29292929292929293,
                    0.30303030303030304,
                    0.31313131313131315,
                    0.32323232323232326,
                    0.33333333333333337,
                    0.3434343434343435,
                    0.3535353535353536,
                    0.36363636363636365,
                    0.37373737373737376,
                    0.38383838383838387,
                    0.393939393939394,
                    0.4040404040404041,
                    0.4141414141414142,
                    0.42424242424242425,
                    0.43434343434343436,
                    0.4444444444444445,
                    0.4545454545454546,
                    0.4646464646464647,
                    0.4747474747474748,
                    0.48484848484848486,
                    0.494949494949495,
                    0.5050505050505051,
                    0.5151515151515152,
                    0.5252525252525253,
                    0.5353535353535354,
                    0.5454545454545455,
                    0.5555555555555556,
                    0.5656565656565657,
                    0.5757575757575758,
                    0.5858585858585859,
                    0.595959595959596,
                    0.6060606060606061,
                    0.6161616161616162,
                    0.6262626262626263,
                    0.6363636363636365,
                    0.6464646464646465,
                    0.6565656565656566,
                    0.6666666666666667,
                    0.6767676767676768,
                    0.686868686868687,
                    0.696969696969697,
                    0.7070707070707072,
                    0.7171717171717172,
                    0.7272727272727273,
                    0.7373737373737375,
                    0.7474747474747475,
                    0.7575757575757577,
                    0.7676767676767677,
                    0.7777777777777778,
                    0.787878787878788,
                    0.797979797979798,
                    0.8080808080808082,
                    0.8181818181818182,
                    0.8282828282828284,
                    0.8383838383838385,
                    0.8484848484848485,
                    0.8585858585858587,
                    0.8686868686868687,
                    0.8787878787878789,
                    0.888888888888889,
                    0.8989898989898991,
                    0.9090909090909092,
                    0.9191919191919192,
                    0.9292929292929294,
                    0.9393939393939394,
                    0.9494949494949496,
                    0.9595959595959597,
                    0.9696969696969697,
                    0.9797979797979799,
                    0.98989898989899,
                    1
                  ],
                  "y": [
                    0,
                    0.633705475810739,
                    0.8431902266488732,
                    0.8448068222504312,
                    0.8464234178519893,
                    0.8480400134535473,
                    0.8496566090551052,
                    0.8512732046566632,
                    0.8528898002582213,
                    0.8545063958597793,
                    0.8561229914613373,
                    0.8577395870628953,
                    0.8593561826644533,
                    0.8609727782660113,
                    0.8625893738675693,
                    0.8642059694691273,
                    0.8658225650706853,
                    0.8674391606722434,
                    0.8690557562738014,
                    0.8706723518753594,
                    0.8722889474769173,
                    0.8739055430784753,
                    0.8755221386800334,
                    0.8771387342815914,
                    0.8787553298831494,
                    0.8803719254847074,
                    0.8819885210862655,
                    0.8836051166878234,
                    0.8852217122893814,
                    0.8868383078909394,
                    0.8884549034924974,
                    0.8900714990940555,
                    0.8916880946956135,
                    0.8933046902971715,
                    0.8949212858987294,
                    0.8965378815002875,
                    0.8981544771018455,
                    0.8997710727034035,
                    0.9013876683049615,
                    0.9030042639065196,
                    0.9046208595080776,
                    0.9062374551096355,
                    0.9078540507111935,
                    0.9094706463127515,
                    0.9110872419143096,
                    0.9127038375158676,
                    0.9143204331174256,
                    0.9159370287189836,
                    0.9175536243205415,
                    0.9191702199220996,
                    0.9207868155236576,
                    0.9224034111252156,
                    0.9240200067267736,
                    0.9256366023283317,
                    0.9272531979298897,
                    0.9288697935314476,
                    0.9304863891330056,
                    0.9321029847345637,
                    0.9337195803361217,
                    0.9353361759376797,
                    0.9369527715392377,
                    0.9385693671407958,
                    0.9401859627423537,
                    0.9418025583439117,
                    0.9434191539454697,
                    0.9450357495470277,
                    0.9466523451485858,
                    0.9482689407501438,
                    0.9498855363517018,
                    0.9515021319532597,
                    0.9531187275548177,
                    0.9547353231563758,
                    0.9563519187579338,
                    0.9579685143594918,
                    0.9595851099610498,
                    0.9612017055626079,
                    0.9628183011641658,
                    0.9644348967657238,
                    0.9660514923672818,
                    0.9676680879688399,
                    0.9692846835703979,
                    0.9709012791719559,
                    0.9725178747735139,
                    0.9741344703750718,
                    0.9757510659766299,
                    0.9773676615781879,
                    0.9789842571797459,
                    0.9806008527813039,
                    0.982217448382862,
                    0.98383404398442,
                    0.9854506395859779,
                    0.9870672351875359,
                    0.9886838307890939,
                    0.990300426390652,
                    0.99191702199221,
                    0.993533617593768,
                    0.995150213195326,
                    0.996766808796884,
                    0.998383404398442,
                    1
                  ]
                },
                {
                  "mode": "lines",
                  "name": "direitos sociais (area = 0.77)",
                  "type": "scatter",
                  "x": [
                    0,
                    0.010101010101010102,
                    0.020202020202020204,
                    0.030303030303030304,
                    0.04040404040404041,
                    0.05050505050505051,
                    0.06060606060606061,
                    0.07070707070707072,
                    0.08080808080808081,
                    0.09090909090909091,
                    0.10101010101010102,
                    0.11111111111111112,
                    0.12121212121212122,
                    0.13131313131313133,
                    0.14141414141414144,
                    0.15151515151515152,
                    0.16161616161616163,
                    0.17171717171717174,
                    0.18181818181818182,
                    0.19191919191919193,
                    0.20202020202020204,
                    0.21212121212121213,
                    0.22222222222222224,
                    0.23232323232323235,
                    0.24242424242424243,
                    0.25252525252525254,
                    0.26262626262626265,
                    0.27272727272727276,
                    0.2828282828282829,
                    0.29292929292929293,
                    0.30303030303030304,
                    0.31313131313131315,
                    0.32323232323232326,
                    0.33333333333333337,
                    0.3434343434343435,
                    0.3535353535353536,
                    0.36363636363636365,
                    0.37373737373737376,
                    0.38383838383838387,
                    0.393939393939394,
                    0.4040404040404041,
                    0.4141414141414142,
                    0.42424242424242425,
                    0.43434343434343436,
                    0.4444444444444445,
                    0.4545454545454546,
                    0.4646464646464647,
                    0.4747474747474748,
                    0.48484848484848486,
                    0.494949494949495,
                    0.5050505050505051,
                    0.5151515151515152,
                    0.5252525252525253,
                    0.5353535353535354,
                    0.5454545454545455,
                    0.5555555555555556,
                    0.5656565656565657,
                    0.5757575757575758,
                    0.5858585858585859,
                    0.595959595959596,
                    0.6060606060606061,
                    0.6161616161616162,
                    0.6262626262626263,
                    0.6363636363636365,
                    0.6464646464646465,
                    0.6565656565656566,
                    0.6666666666666667,
                    0.6767676767676768,
                    0.686868686868687,
                    0.696969696969697,
                    0.7070707070707072,
                    0.7171717171717172,
                    0.7272727272727273,
                    0.7373737373737375,
                    0.7474747474747475,
                    0.7575757575757577,
                    0.7676767676767677,
                    0.7777777777777778,
                    0.787878787878788,
                    0.797979797979798,
                    0.8080808080808082,
                    0.8181818181818182,
                    0.8282828282828284,
                    0.8383838383838385,
                    0.8484848484848485,
                    0.8585858585858587,
                    0.8686868686868687,
                    0.8787878787878789,
                    0.888888888888889,
                    0.8989898989898991,
                    0.9090909090909092,
                    0.9191919191919192,
                    0.9292929292929294,
                    0.9393939393939394,
                    0.9494949494949496,
                    0.9595959595959597,
                    0.9696969696969697,
                    0.9797979797979799,
                    0.98989898989899,
                    1
                  ],
                  "y": [
                    0,
                    0.1244778613199666,
                    0.2489557226399332,
                    0.3734335839598998,
                    0.4979114452798664,
                    0.5805048258717643,
                    0.5849675404901499,
                    0.5894302551085353,
                    0.5938929697269208,
                    0.5983556843453063,
                    0.6028183989636918,
                    0.6072811135820773,
                    0.6117438282004628,
                    0.6162065428188482,
                    0.6206692574372338,
                    0.6251319720556192,
                    0.6295946866740048,
                    0.6340574012923902,
                    0.6385201159107757,
                    0.6429828305291612,
                    0.6474455451475467,
                    0.6519082597659321,
                    0.6563709743843176,
                    0.6608336890027031,
                    0.6652964036210887,
                    0.6697591182394741,
                    0.6742218328578595,
                    0.6786845474762451,
                    0.6831472620946306,
                    0.687609976713016,
                    0.6920726913314015,
                    0.696535405949787,
                    0.7009981205681725,
                    0.705460835186558,
                    0.7099235498049434,
                    0.714386264423329,
                    0.7188489790417144,
                    0.7233116936601,
                    0.7277744082784854,
                    0.7322371228968709,
                    0.7366998375152564,
                    0.7411625521336419,
                    0.7456252667520273,
                    0.7500879813704129,
                    0.7545506959887983,
                    0.7590134106071837,
                    0.7634761252255693,
                    0.7679388398439548,
                    0.7724015544623403,
                    0.7768642690807257,
                    0.7813269836991112,
                    0.7857896983174968,
                    0.7902524129358822,
                    0.7947151275542677,
                    0.7991778421726532,
                    0.8036405567910386,
                    0.8081032714094242,
                    0.8125659860278096,
                    0.817028700646195,
                    0.8214914152645806,
                    0.825954129882966,
                    0.8304168445013516,
                    0.8348795591197371,
                    0.8393422737381225,
                    0.843804988356508,
                    0.8482677029748935,
                    0.852730417593279,
                    0.8571931322116644,
                    0.8616558468300499,
                    0.8661185614484355,
                    0.870581276066821,
                    0.8750439906852064,
                    0.8795067053035919,
                    0.8839694199219774,
                    0.8884321345403629,
                    0.8928948491587484,
                    0.8973575637771338,
                    0.9018202783955194,
                    0.9062829930139048,
                    0.9107457076322902,
                    0.9152084222506758,
                    0.9196711368690613,
                    0.9241338514874468,
                    0.9285965661058322,
                    0.9330592807242177,
                    0.9375219953426033,
                    0.9419847099609887,
                    0.9464474245793741,
                    0.9509101391977597,
                    0.9553728538161452,
                    0.9598355684345307,
                    0.9642982830529161,
                    0.9687609976713016,
                    0.9732237122896871,
                    0.9776864269080726,
                    0.982149141526458,
                    0.9866118561448436,
                    0.991074570763229,
                    0.9955372853816145,
                    1
                  ]
                },
                {
                  "mode": "lines",
                  "name": "economia (area = 0.74)",
                  "type": "scatter",
                  "x": [
                    0,
                    0.010101010101010102,
                    0.020202020202020204,
                    0.030303030303030304,
                    0.04040404040404041,
                    0.05050505050505051,
                    0.06060606060606061,
                    0.07070707070707072,
                    0.08080808080808081,
                    0.09090909090909091,
                    0.10101010101010102,
                    0.11111111111111112,
                    0.12121212121212122,
                    0.13131313131313133,
                    0.14141414141414144,
                    0.15151515151515152,
                    0.16161616161616163,
                    0.17171717171717174,
                    0.18181818181818182,
                    0.19191919191919193,
                    0.20202020202020204,
                    0.21212121212121213,
                    0.22222222222222224,
                    0.23232323232323235,
                    0.24242424242424243,
                    0.25252525252525254,
                    0.26262626262626265,
                    0.27272727272727276,
                    0.2828282828282829,
                    0.29292929292929293,
                    0.30303030303030304,
                    0.31313131313131315,
                    0.32323232323232326,
                    0.33333333333333337,
                    0.3434343434343435,
                    0.3535353535353536,
                    0.36363636363636365,
                    0.37373737373737376,
                    0.38383838383838387,
                    0.393939393939394,
                    0.4040404040404041,
                    0.4141414141414142,
                    0.42424242424242425,
                    0.43434343434343436,
                    0.4444444444444445,
                    0.4545454545454546,
                    0.4646464646464647,
                    0.4747474747474748,
                    0.48484848484848486,
                    0.494949494949495,
                    0.5050505050505051,
                    0.5151515151515152,
                    0.5252525252525253,
                    0.5353535353535354,
                    0.5454545454545455,
                    0.5555555555555556,
                    0.5656565656565657,
                    0.5757575757575758,
                    0.5858585858585859,
                    0.595959595959596,
                    0.6060606060606061,
                    0.6161616161616162,
                    0.6262626262626263,
                    0.6363636363636365,
                    0.6464646464646465,
                    0.6565656565656566,
                    0.6666666666666667,
                    0.6767676767676768,
                    0.686868686868687,
                    0.696969696969697,
                    0.7070707070707072,
                    0.7171717171717172,
                    0.7272727272727273,
                    0.7373737373737375,
                    0.7474747474747475,
                    0.7575757575757577,
                    0.7676767676767677,
                    0.7777777777777778,
                    0.787878787878788,
                    0.797979797979798,
                    0.8080808080808082,
                    0.8181818181818182,
                    0.8282828282828284,
                    0.8383838383838385,
                    0.8484848484848485,
                    0.8585858585858587,
                    0.8686868686868687,
                    0.8787878787878789,
                    0.888888888888889,
                    0.8989898989898991,
                    0.9090909090909092,
                    0.9191919191919192,
                    0.9292929292929294,
                    0.9393939393939394,
                    0.9494949494949496,
                    0.9595959595959597,
                    0.9696969696969697,
                    0.9797979797979799,
                    0.98989898989899,
                    1
                  ],
                  "y": [
                    0,
                    0.3888888888888889,
                    0.5036549707602339,
                    0.5087719298245614,
                    0.5138888888888888,
                    0.5190058479532164,
                    0.5241228070175439,
                    0.5292397660818714,
                    0.5343567251461988,
                    0.5394736842105263,
                    0.5445906432748538,
                    0.5497076023391813,
                    0.5548245614035088,
                    0.5599415204678363,
                    0.5650584795321637,
                    0.5701754385964912,
                    0.5752923976608187,
                    0.5804093567251463,
                    0.5855263157894737,
                    0.5906432748538012,
                    0.5957602339181287,
                    0.6008771929824561,
                    0.6059941520467836,
                    0.6111111111111112,
                    0.6162280701754386,
                    0.6213450292397661,
                    0.6264619883040936,
                    0.631578947368421,
                    0.6366959064327485,
                    0.6418128654970761,
                    0.6469298245614035,
                    0.652046783625731,
                    0.6571637426900585,
                    0.6622807017543859,
                    0.6673976608187134,
                    0.672514619883041,
                    0.6776315789473684,
                    0.6827485380116959,
                    0.6878654970760234,
                    0.6929824561403509,
                    0.6980994152046783,
                    0.7032163742690059,
                    0.7083333333333333,
                    0.7134502923976608,
                    0.7185672514619883,
                    0.7236842105263158,
                    0.7288011695906433,
                    0.7339181286549707,
                    0.7390350877192983,
                    0.7441520467836258,
                    0.7492690058479532,
                    0.7543859649122807,
                    0.7595029239766082,
                    0.7646198830409356,
                    0.7697368421052632,
                    0.7748538011695907,
                    0.7799707602339181,
                    0.7850877192982456,
                    0.7902046783625731,
                    0.7953216374269005,
                    0.8004385964912281,
                    0.8055555555555556,
                    0.810672514619883,
                    0.8157894736842106,
                    0.820906432748538,
                    0.8260233918128654,
                    0.8311403508771931,
                    0.8362573099415205,
                    0.841374269005848,
                    0.8464912280701755,
                    0.8516081871345029,
                    0.8567251461988303,
                    0.8618421052631579,
                    0.8669590643274854,
                    0.8720760233918128,
                    0.8771929824561404,
                    0.8823099415204678,
                    0.8874269005847952,
                    0.8925438596491229,
                    0.8976608187134503,
                    0.9027777777777778,
                    0.9078947368421053,
                    0.9130116959064327,
                    0.9181286549707602,
                    0.9232456140350878,
                    0.9283625730994152,
                    0.9334795321637427,
                    0.9385964912280702,
                    0.9437134502923976,
                    0.9488304093567252,
                    0.9539473684210527,
                    0.9590643274853801,
                    0.9641812865497077,
                    0.9692982456140351,
                    0.9744152046783626,
                    0.9795321637426901,
                    0.9846491228070176,
                    0.989766081871345,
                    0.9948830409356725,
                    1
                  ]
                },
                {
                  "mode": "lines",
                  "name": "feminicidio (area = 0.89)",
                  "type": "scatter",
                  "x": [
                    0,
                    0.010101010101010102,
                    0.020202020202020204,
                    0.030303030303030304,
                    0.04040404040404041,
                    0.05050505050505051,
                    0.06060606060606061,
                    0.07070707070707072,
                    0.08080808080808081,
                    0.09090909090909091,
                    0.10101010101010102,
                    0.11111111111111112,
                    0.12121212121212122,
                    0.13131313131313133,
                    0.14141414141414144,
                    0.15151515151515152,
                    0.16161616161616163,
                    0.17171717171717174,
                    0.18181818181818182,
                    0.19191919191919193,
                    0.20202020202020204,
                    0.21212121212121213,
                    0.22222222222222224,
                    0.23232323232323235,
                    0.24242424242424243,
                    0.25252525252525254,
                    0.26262626262626265,
                    0.27272727272727276,
                    0.2828282828282829,
                    0.29292929292929293,
                    0.30303030303030304,
                    0.31313131313131315,
                    0.32323232323232326,
                    0.33333333333333337,
                    0.3434343434343435,
                    0.3535353535353536,
                    0.36363636363636365,
                    0.37373737373737376,
                    0.38383838383838387,
                    0.393939393939394,
                    0.4040404040404041,
                    0.4141414141414142,
                    0.42424242424242425,
                    0.43434343434343436,
                    0.4444444444444445,
                    0.4545454545454546,
                    0.4646464646464647,
                    0.4747474747474748,
                    0.48484848484848486,
                    0.494949494949495,
                    0.5050505050505051,
                    0.5151515151515152,
                    0.5252525252525253,
                    0.5353535353535354,
                    0.5454545454545455,
                    0.5555555555555556,
                    0.5656565656565657,
                    0.5757575757575758,
                    0.5858585858585859,
                    0.595959595959596,
                    0.6060606060606061,
                    0.6161616161616162,
                    0.6262626262626263,
                    0.6363636363636365,
                    0.6464646464646465,
                    0.6565656565656566,
                    0.6666666666666667,
                    0.6767676767676768,
                    0.686868686868687,
                    0.696969696969697,
                    0.7070707070707072,
                    0.7171717171717172,
                    0.7272727272727273,
                    0.7373737373737375,
                    0.7474747474747475,
                    0.7575757575757577,
                    0.7676767676767677,
                    0.7777777777777778,
                    0.787878787878788,
                    0.797979797979798,
                    0.8080808080808082,
                    0.8181818181818182,
                    0.8282828282828284,
                    0.8383838383838385,
                    0.8484848484848485,
                    0.8585858585858587,
                    0.8686868686868687,
                    0.8787878787878789,
                    0.888888888888889,
                    0.8989898989898991,
                    0.9090909090909092,
                    0.9191919191919192,
                    0.9292929292929294,
                    0.9393939393939394,
                    0.9494949494949496,
                    0.9595959595959597,
                    0.9696969696969697,
                    0.9797979797979799,
                    0.98989898989899,
                    1
                  ],
                  "y": [
                    0,
                    0.6585858585858587,
                    0.8016061233452538,
                    0.8036514210427255,
                    0.805696718740197,
                    0.8077420164376686,
                    0.8097873141351403,
                    0.8118326118326119,
                    0.8138779095300834,
                    0.8159232072275551,
                    0.8179685049250267,
                    0.8200138026224983,
                    0.82205910031997,
                    0.8241043980174415,
                    0.8261496957149131,
                    0.8281949934123848,
                    0.8302402911098564,
                    0.832285588807328,
                    0.8343308865047996,
                    0.8363761842022712,
                    0.8384214818997429,
                    0.8404667795972144,
                    0.842512077294686,
                    0.8445573749921577,
                    0.8466026726896293,
                    0.8486479703871008,
                    0.8506932680845725,
                    0.8527385657820441,
                    0.8547838634795157,
                    0.8568291611769873,
                    0.8588744588744589,
                    0.8609197565719305,
                    0.8629650542694022,
                    0.8650103519668737,
                    0.8670556496643453,
                    0.869100947361817,
                    0.8711462450592886,
                    0.8731915427567603,
                    0.8752368404542318,
                    0.8772821381517034,
                    0.879327435849175,
                    0.8813727335466466,
                    0.8834180312441182,
                    0.8854633289415899,
                    0.8875086266390615,
                    0.8895539243365331,
                    0.8915992220340047,
                    0.8936445197314763,
                    0.8956898174289479,
                    0.8977351151264195,
                    0.8997804128238911,
                    0.9018257105213627,
                    0.9038710082188344,
                    0.9059163059163059,
                    0.9079616036137775,
                    0.9100069013112492,
                    0.9120521990087208,
                    0.9140974967061923,
                    0.916142794403664,
                    0.9181880921011356,
                    0.9202333897986072,
                    0.9222786874960789,
                    0.9243239851935504,
                    0.926369282891022,
                    0.9284145805884937,
                    0.9304598782859652,
                    0.9325051759834369,
                    0.9345504736809085,
                    0.9365957713783801,
                    0.9386410690758518,
                    0.9406863667733234,
                    0.9427316644707949,
                    0.9447769621682666,
                    0.9468222598657382,
                    0.9488675575632097,
                    0.9509128552606814,
                    0.952958152958153,
                    0.9550034506556246,
                    0.9570487483530963,
                    0.9590940460505678,
                    0.9611393437480394,
                    0.963184641445511,
                    0.9652299391429826,
                    0.9672752368404542,
                    0.9693205345379259,
                    0.9713658322353975,
                    0.9734111299328692,
                    0.9754564276303407,
                    0.9775017253278123,
                    0.979547023025284,
                    0.9815923207227555,
                    0.9836376184202271,
                    0.9856829161176988,
                    0.9877282138151704,
                    0.989773511512642,
                    0.9918188092101136,
                    0.9938641069075852,
                    0.9959094046050568,
                    0.9979547023025284,
                    1
                  ]
                },
                {
                  "mode": "lines",
                  "name": "genero (area = 0.99)",
                  "type": "scatter",
                  "x": [
                    0,
                    0.010101010101010102,
                    0.020202020202020204,
                    0.030303030303030304,
                    0.04040404040404041,
                    0.05050505050505051,
                    0.06060606060606061,
                    0.07070707070707072,
                    0.08080808080808081,
                    0.09090909090909091,
                    0.10101010101010102,
                    0.11111111111111112,
                    0.12121212121212122,
                    0.13131313131313133,
                    0.14141414141414144,
                    0.15151515151515152,
                    0.16161616161616163,
                    0.17171717171717174,
                    0.18181818181818182,
                    0.19191919191919193,
                    0.20202020202020204,
                    0.21212121212121213,
                    0.22222222222222224,
                    0.23232323232323235,
                    0.24242424242424243,
                    0.25252525252525254,
                    0.26262626262626265,
                    0.27272727272727276,
                    0.2828282828282829,
                    0.29292929292929293,
                    0.30303030303030304,
                    0.31313131313131315,
                    0.32323232323232326,
                    0.33333333333333337,
                    0.3434343434343435,
                    0.3535353535353536,
                    0.36363636363636365,
                    0.37373737373737376,
                    0.38383838383838387,
                    0.393939393939394,
                    0.4040404040404041,
                    0.4141414141414142,
                    0.42424242424242425,
                    0.43434343434343436,
                    0.4444444444444445,
                    0.4545454545454546,
                    0.4646464646464647,
                    0.4747474747474748,
                    0.48484848484848486,
                    0.494949494949495,
                    0.5050505050505051,
                    0.5151515151515152,
                    0.5252525252525253,
                    0.5353535353535354,
                    0.5454545454545455,
                    0.5555555555555556,
                    0.5656565656565657,
                    0.5757575757575758,
                    0.5858585858585859,
                    0.595959595959596,
                    0.6060606060606061,
                    0.6161616161616162,
                    0.6262626262626263,
                    0.6363636363636365,
                    0.6464646464646465,
                    0.6565656565656566,
                    0.6666666666666667,
                    0.6767676767676768,
                    0.686868686868687,
                    0.696969696969697,
                    0.7070707070707072,
                    0.7171717171717172,
                    0.7272727272727273,
                    0.7373737373737375,
                    0.7474747474747475,
                    0.7575757575757577,
                    0.7676767676767677,
                    0.7777777777777778,
                    0.787878787878788,
                    0.797979797979798,
                    0.8080808080808082,
                    0.8181818181818182,
                    0.8282828282828284,
                    0.8383838383838385,
                    0.8484848484848485,
                    0.8585858585858587,
                    0.8686868686868687,
                    0.8787878787878789,
                    0.888888888888889,
                    0.8989898989898991,
                    0.9090909090909092,
                    0.9191919191919192,
                    0.9292929292929294,
                    0.9393939393939394,
                    0.9494949494949496,
                    0.9595959595959597,
                    0.9696969696969697,
                    0.9797979797979799,
                    0.98989898989899,
                    1
                  ],
                  "y": [
                    0,
                    0.521885521885522,
                    1,
                    1,
                    1,
                    1,
                    1,
                    1,
                    1,
                    1,
                    1,
                    1,
                    1,
                    1,
                    1,
                    1,
                    1,
                    1,
                    1,
                    1,
                    1,
                    1,
                    1,
                    1,
                    1,
                    1,
                    1,
                    1,
                    1,
                    1,
                    1,
                    1,
                    1,
                    1,
                    1,
                    1,
                    1,
                    1,
                    1,
                    1,
                    1,
                    1,
                    1,
                    1,
                    1,
                    1,
                    1,
                    1,
                    1,
                    1,
                    1,
                    1,
                    1,
                    1,
                    1,
                    1,
                    1,
                    1,
                    1,
                    1,
                    1,
                    1,
                    1,
                    1,
                    1,
                    1,
                    1,
                    1,
                    1,
                    1,
                    1,
                    1,
                    1,
                    1,
                    1,
                    1,
                    1,
                    1,
                    1,
                    1,
                    1,
                    1,
                    1,
                    1,
                    1,
                    1,
                    1,
                    1,
                    1,
                    1,
                    1,
                    1,
                    1,
                    1,
                    1,
                    1,
                    1,
                    1,
                    1,
                    1
                  ]
                },
                {
                  "mode": "lines",
                  "name": "maternidade (area = 0.85)",
                  "type": "scatter",
                  "x": [
                    0,
                    0.010101010101010102,
                    0.020202020202020204,
                    0.030303030303030304,
                    0.04040404040404041,
                    0.05050505050505051,
                    0.06060606060606061,
                    0.07070707070707072,
                    0.08080808080808081,
                    0.09090909090909091,
                    0.10101010101010102,
                    0.11111111111111112,
                    0.12121212121212122,
                    0.13131313131313133,
                    0.14141414141414144,
                    0.15151515151515152,
                    0.16161616161616163,
                    0.17171717171717174,
                    0.18181818181818182,
                    0.19191919191919193,
                    0.20202020202020204,
                    0.21212121212121213,
                    0.22222222222222224,
                    0.23232323232323235,
                    0.24242424242424243,
                    0.25252525252525254,
                    0.26262626262626265,
                    0.27272727272727276,
                    0.2828282828282829,
                    0.29292929292929293,
                    0.30303030303030304,
                    0.31313131313131315,
                    0.32323232323232326,
                    0.33333333333333337,
                    0.3434343434343435,
                    0.3535353535353536,
                    0.36363636363636365,
                    0.37373737373737376,
                    0.38383838383838387,
                    0.393939393939394,
                    0.4040404040404041,
                    0.4141414141414142,
                    0.42424242424242425,
                    0.43434343434343436,
                    0.4444444444444445,
                    0.4545454545454546,
                    0.4646464646464647,
                    0.4747474747474748,
                    0.48484848484848486,
                    0.494949494949495,
                    0.5050505050505051,
                    0.5151515151515152,
                    0.5252525252525253,
                    0.5353535353535354,
                    0.5454545454545455,
                    0.5555555555555556,
                    0.5656565656565657,
                    0.5757575757575758,
                    0.5858585858585859,
                    0.595959595959596,
                    0.6060606060606061,
                    0.6161616161616162,
                    0.6262626262626263,
                    0.6363636363636365,
                    0.6464646464646465,
                    0.6565656565656566,
                    0.6666666666666667,
                    0.6767676767676768,
                    0.686868686868687,
                    0.696969696969697,
                    0.7070707070707072,
                    0.7171717171717172,
                    0.7272727272727273,
                    0.7373737373737375,
                    0.7474747474747475,
                    0.7575757575757577,
                    0.7676767676767677,
                    0.7777777777777778,
                    0.787878787878788,
                    0.797979797979798,
                    0.8080808080808082,
                    0.8181818181818182,
                    0.8282828282828284,
                    0.8383838383838385,
                    0.8484848484848485,
                    0.8585858585858587,
                    0.8686868686868687,
                    0.8787878787878789,
                    0.888888888888889,
                    0.8989898989898991,
                    0.9090909090909092,
                    0.9191919191919192,
                    0.9292929292929294,
                    0.9393939393939394,
                    0.9494949494949496,
                    0.9595959595959597,
                    0.9696969696969697,
                    0.9797979797979799,
                    0.98989898989899,
                    1
                  ],
                  "y": [
                    0,
                    0.18483076377813223,
                    0.36966152755626447,
                    0.5544922913343967,
                    0.7368792823338277,
                    0.7396489740987349,
                    0.7424186658636419,
                    0.745188357628549,
                    0.747958049393456,
                    0.7507277411583632,
                    0.7534974329232702,
                    0.7562671246881773,
                    0.7590368164530844,
                    0.7618065082179915,
                    0.7645761999828985,
                    0.7673458917478055,
                    0.7701155835127127,
                    0.7728852752776197,
                    0.7756549670425268,
                    0.778424658807434,
                    0.781194350572341,
                    0.783964042337248,
                    0.7867337341021551,
                    0.7895034258670622,
                    0.7922731176319693,
                    0.7950428093968763,
                    0.7978125011617834,
                    0.8005821929266905,
                    0.8033518846915976,
                    0.8061215764565046,
                    0.8088912682214118,
                    0.8116609599863188,
                    0.8144306517512259,
                    0.817200343516133,
                    0.8199700352810401,
                    0.8227397270459471,
                    0.8255094188108542,
                    0.8282791105757612,
                    0.8310488023406684,
                    0.8338184941055754,
                    0.8365881858704824,
                    0.8393578776353896,
                    0.8421275694002966,
                    0.8448972611652037,
                    0.8476669529301109,
                    0.8504366446950179,
                    0.8532063364599249,
                    0.855976028224832,
                    0.8587457199897391,
                    0.8615154117546462,
                    0.8642851035195532,
                    0.8670547952844603,
                    0.8698244870493674,
                    0.8725941788142745,
                    0.8753638705791815,
                    0.8781335623440887,
                    0.8809032541089957,
                    0.8836729458739028,
                    0.8864426376388099,
                    0.889212329403717,
                    0.891982021168624,
                    0.8947517129335311,
                    0.8975214046984382,
                    0.9002910964633453,
                    0.9030607882282523,
                    0.9058304799931594,
                    0.9086001717580665,
                    0.9113698635229736,
                    0.9141395552878806,
                    0.9169092470527878,
                    0.9196789388176948,
                    0.9224486305826018,
                    0.925218322347509,
                    0.927988014112416,
                    0.9307577058773231,
                    0.9335273976422301,
                    0.9362970894071372,
                    0.9390667811720443,
                    0.9418364729369514,
                    0.9446061647018584,
                    0.9473758564667656,
                    0.9501455482316726,
                    0.9529152399965797,
                    0.9556849317614868,
                    0.9584546235263938,
                    0.9612243152913009,
                    0.963994007056208,
                    0.9667636988211151,
                    0.9695333905860222,
                    0.9723030823509292,
                    0.9750727741158363,
                    0.9778424658807434,
                    0.9806121576456505,
                    0.9833818494105575,
                    0.9861515411754647,
                    0.9889212329403716,
                    0.9916909247052788,
                    0.9944606164701859,
                    0.9972303082350928,
                    1
                  ]
                },
                {
                  "mode": "lines",
                  "name": "politica (area = 0.94)",
                  "type": "scatter",
                  "x": [
                    0,
                    0.010101010101010102,
                    0.020202020202020204,
                    0.030303030303030304,
                    0.04040404040404041,
                    0.05050505050505051,
                    0.06060606060606061,
                    0.07070707070707072,
                    0.08080808080808081,
                    0.09090909090909091,
                    0.10101010101010102,
                    0.11111111111111112,
                    0.12121212121212122,
                    0.13131313131313133,
                    0.14141414141414144,
                    0.15151515151515152,
                    0.16161616161616163,
                    0.17171717171717174,
                    0.18181818181818182,
                    0.19191919191919193,
                    0.20202020202020204,
                    0.21212121212121213,
                    0.22222222222222224,
                    0.23232323232323235,
                    0.24242424242424243,
                    0.25252525252525254,
                    0.26262626262626265,
                    0.27272727272727276,
                    0.2828282828282829,
                    0.29292929292929293,
                    0.30303030303030304,
                    0.31313131313131315,
                    0.32323232323232326,
                    0.33333333333333337,
                    0.3434343434343435,
                    0.3535353535353536,
                    0.36363636363636365,
                    0.37373737373737376,
                    0.38383838383838387,
                    0.393939393939394,
                    0.4040404040404041,
                    0.4141414141414142,
                    0.42424242424242425,
                    0.43434343434343436,
                    0.4444444444444445,
                    0.4545454545454546,
                    0.4646464646464647,
                    0.4747474747474748,
                    0.48484848484848486,
                    0.494949494949495,
                    0.5050505050505051,
                    0.5151515151515152,
                    0.5252525252525253,
                    0.5353535353535354,
                    0.5454545454545455,
                    0.5555555555555556,
                    0.5656565656565657,
                    0.5757575757575758,
                    0.5858585858585859,
                    0.595959595959596,
                    0.6060606060606061,
                    0.6161616161616162,
                    0.6262626262626263,
                    0.6363636363636365,
                    0.6464646464646465,
                    0.6565656565656566,
                    0.6666666666666667,
                    0.6767676767676768,
                    0.686868686868687,
                    0.696969696969697,
                    0.7070707070707072,
                    0.7171717171717172,
                    0.7272727272727273,
                    0.7373737373737375,
                    0.7474747474747475,
                    0.7575757575757577,
                    0.7676767676767677,
                    0.7777777777777778,
                    0.787878787878788,
                    0.797979797979798,
                    0.8080808080808082,
                    0.8181818181818182,
                    0.8282828282828284,
                    0.8383838383838385,
                    0.8484848484848485,
                    0.8585858585858587,
                    0.8686868686868687,
                    0.8787878787878789,
                    0.888888888888889,
                    0.8989898989898991,
                    0.9090909090909092,
                    0.9191919191919192,
                    0.9292929292929294,
                    0.9393939393939394,
                    0.9494949494949496,
                    0.9595959595959597,
                    0.9696969696969697,
                    0.9797979797979799,
                    0.98989898989899,
                    1
                  ],
                  "y": [
                    0.875,
                    0.8762626262626263,
                    0.8775252525252525,
                    0.8787878787878788,
                    0.8800505050505051,
                    0.8813131313131313,
                    0.8825757575757576,
                    0.8838383838383839,
                    0.88510101010101,
                    0.8863636363636364,
                    0.8876262626262627,
                    0.8888888888888888,
                    0.8901515151515151,
                    0.8914141414141414,
                    0.8926767676767677,
                    0.8939393939393939,
                    0.8952020202020202,
                    0.8964646464646465,
                    0.8977272727272727,
                    0.898989898989899,
                    0.9002525252525253,
                    0.9015151515151515,
                    0.9027777777777778,
                    0.9040404040404041,
                    0.9053030303030303,
                    0.9065656565656566,
                    0.9078282828282829,
                    0.9090909090909091,
                    0.9103535353535354,
                    0.9116161616161617,
                    0.9128787878787878,
                    0.9141414141414141,
                    0.9154040404040404,
                    0.9166666666666666,
                    0.9179292929292929,
                    0.9191919191919192,
                    0.9204545454545454,
                    0.9217171717171717,
                    0.922979797979798,
                    0.9242424242424242,
                    0.9255050505050505,
                    0.9267676767676768,
                    0.928030303030303,
                    0.9292929292929293,
                    0.9305555555555556,
                    0.9318181818181819,
                    0.9330808080808081,
                    0.9343434343434344,
                    0.9356060606060606,
                    0.9368686868686869,
                    0.9381313131313131,
                    0.9393939393939394,
                    0.9406565656565656,
                    0.9419191919191919,
                    0.9431818181818182,
                    0.9444444444444444,
                    0.9457070707070707,
                    0.946969696969697,
                    0.9482323232323232,
                    0.9494949494949495,
                    0.9507575757575758,
                    0.952020202020202,
                    0.9532828282828283,
                    0.9545454545454546,
                    0.9558080808080808,
                    0.9570707070707071,
                    0.9583333333333334,
                    0.9595959595959596,
                    0.9608585858585859,
                    0.9621212121212122,
                    0.9633838383838385,
                    0.9646464646464646,
                    0.9659090909090909,
                    0.9671717171717171,
                    0.9684343434343434,
                    0.9696969696969697,
                    0.970959595959596,
                    0.9722222222222222,
                    0.9734848484848485,
                    0.9747474747474747,
                    0.976010101010101,
                    0.9772727272727273,
                    0.9785353535353536,
                    0.9797979797979798,
                    0.9810606060606061,
                    0.9823232323232324,
                    0.9835858585858586,
                    0.9848484848484849,
                    0.9861111111111112,
                    0.9873737373737373,
                    0.9886363636363636,
                    0.98989898989899,
                    0.9911616161616161,
                    0.9924242424242424,
                    0.9936868686868687,
                    0.9949494949494949,
                    0.9962121212121212,
                    0.9974747474747475,
                    0.9987373737373737,
                    1
                  ]
                },
                {
                  "mode": "lines",
                  "name": "violencia contra a mulher (area = 0.93)",
                  "type": "scatter",
                  "x": [
                    0,
                    0.010101010101010102,
                    0.020202020202020204,
                    0.030303030303030304,
                    0.04040404040404041,
                    0.05050505050505051,
                    0.06060606060606061,
                    0.07070707070707072,
                    0.08080808080808081,
                    0.09090909090909091,
                    0.10101010101010102,
                    0.11111111111111112,
                    0.12121212121212122,
                    0.13131313131313133,
                    0.14141414141414144,
                    0.15151515151515152,
                    0.16161616161616163,
                    0.17171717171717174,
                    0.18181818181818182,
                    0.19191919191919193,
                    0.20202020202020204,
                    0.21212121212121213,
                    0.22222222222222224,
                    0.23232323232323235,
                    0.24242424242424243,
                    0.25252525252525254,
                    0.26262626262626265,
                    0.27272727272727276,
                    0.2828282828282829,
                    0.29292929292929293,
                    0.30303030303030304,
                    0.31313131313131315,
                    0.32323232323232326,
                    0.33333333333333337,
                    0.3434343434343435,
                    0.3535353535353536,
                    0.36363636363636365,
                    0.37373737373737376,
                    0.38383838383838387,
                    0.393939393939394,
                    0.4040404040404041,
                    0.4141414141414142,
                    0.42424242424242425,
                    0.43434343434343436,
                    0.4444444444444445,
                    0.4545454545454546,
                    0.4646464646464647,
                    0.4747474747474748,
                    0.48484848484848486,
                    0.494949494949495,
                    0.5050505050505051,
                    0.5151515151515152,
                    0.5252525252525253,
                    0.5353535353535354,
                    0.5454545454545455,
                    0.5555555555555556,
                    0.5656565656565657,
                    0.5757575757575758,
                    0.5858585858585859,
                    0.595959595959596,
                    0.6060606060606061,
                    0.6161616161616162,
                    0.6262626262626263,
                    0.6363636363636365,
                    0.6464646464646465,
                    0.6565656565656566,
                    0.6666666666666667,
                    0.6767676767676768,
                    0.686868686868687,
                    0.696969696969697,
                    0.7070707070707072,
                    0.7171717171717172,
                    0.7272727272727273,
                    0.7373737373737375,
                    0.7474747474747475,
                    0.7575757575757577,
                    0.7676767676767677,
                    0.7777777777777778,
                    0.787878787878788,
                    0.797979797979798,
                    0.8080808080808082,
                    0.8181818181818182,
                    0.8282828282828284,
                    0.8383838383838385,
                    0.8484848484848485,
                    0.8585858585858587,
                    0.8686868686868687,
                    0.8787878787878789,
                    0.888888888888889,
                    0.8989898989898991,
                    0.9090909090909092,
                    0.9191919191919192,
                    0.9292929292929294,
                    0.9393939393939394,
                    0.9494949494949496,
                    0.9595959595959597,
                    0.9696969696969697,
                    0.9797979797979799,
                    0.98989898989899,
                    1
                  ],
                  "y": [
                    0,
                    0.13327721661054995,
                    0.2665544332210999,
                    0.39983164983164987,
                    0.5331088664421998,
                    0.6663860830527498,
                    0.7996632996632997,
                    0.9259682781695361,
                    0.926772970798128,
                    0.92757766342672,
                    0.928382356055312,
                    0.929187048683904,
                    0.9299917413124961,
                    0.930796433941088,
                    0.9316011265696801,
                    0.932405819198272,
                    0.933210511826864,
                    0.934015204455456,
                    0.934819897084048,
                    0.9356245897126401,
                    0.936429282341232,
                    0.9372339749698241,
                    0.938038667598416,
                    0.938843360227008,
                    0.9396480528556,
                    0.940452745484192,
                    0.9412574381127841,
                    0.942062130741376,
                    0.9428668233699681,
                    0.94367151599856,
                    0.944476208627152,
                    0.945280901255744,
                    0.946085593884336,
                    0.9468902865129281,
                    0.94769497914152,
                    0.9484996717701121,
                    0.949304364398704,
                    0.950109057027296,
                    0.950913749655888,
                    0.95171844228448,
                    0.9525231349130721,
                    0.953327827541664,
                    0.9541325201702561,
                    0.954937212798848,
                    0.95574190542744,
                    0.956546598056032,
                    0.957351290684624,
                    0.958155983313216,
                    0.958960675941808,
                    0.9597653685704001,
                    0.960570061198992,
                    0.9613747538275841,
                    0.962179446456176,
                    0.962984139084768,
                    0.96378883171336,
                    0.964593524341952,
                    0.9653982169705441,
                    0.966202909599136,
                    0.967007602227728,
                    0.96781229485632,
                    0.968616987484912,
                    0.969421680113504,
                    0.970226372742096,
                    0.9710310653706881,
                    0.97183575799928,
                    0.972640450627872,
                    0.973445143256464,
                    0.974249835885056,
                    0.975054528513648,
                    0.97585922114224,
                    0.9766639137708321,
                    0.977468606399424,
                    0.9782732990280161,
                    0.979077991656608,
                    0.9798826842852,
                    0.980687376913792,
                    0.981492069542384,
                    0.9822967621709761,
                    0.983101454799568,
                    0.9839061474281601,
                    0.984710840056752,
                    0.985515532685344,
                    0.986320225313936,
                    0.987124917942528,
                    0.98792961057112,
                    0.988734303199712,
                    0.9895389958283041,
                    0.990343688456896,
                    0.991148381085488,
                    0.99195307371408,
                    0.992757766342672,
                    0.993562458971264,
                    0.994367151599856,
                    0.9951718442284481,
                    0.99597653685704,
                    0.996781229485632,
                    0.997585922114224,
                    0.998390614742816,
                    0.999195307371408,
                    1
                  ]
                },
                {
                  "line": {
                    "color": "navy",
                    "dash": "dash"
                  },
                  "mode": "lines",
                  "showlegend": false,
                  "type": "scatter",
                  "x": [
                    0,
                    1
                  ],
                  "y": [
                    0,
                    1
                  ]
                }
              ],
              "layout": {
                "height": 600,
                "legend": {
                  "x": 0.8,
                  "y": 0.2
                },
                "template": {
                  "data": {
                    "bar": [
                      {
                        "error_x": {
                          "color": "#2a3f5f"
                        },
                        "error_y": {
                          "color": "#2a3f5f"
                        },
                        "marker": {
                          "line": {
                            "color": "#E5ECF6",
                            "width": 0.5
                          },
                          "pattern": {
                            "fillmode": "overlay",
                            "size": 10,
                            "solidity": 0.2
                          }
                        },
                        "type": "bar"
                      }
                    ],
                    "barpolar": [
                      {
                        "marker": {
                          "line": {
                            "color": "#E5ECF6",
                            "width": 0.5
                          },
                          "pattern": {
                            "fillmode": "overlay",
                            "size": 10,
                            "solidity": 0.2
                          }
                        },
                        "type": "barpolar"
                      }
                    ],
                    "carpet": [
                      {
                        "aaxis": {
                          "endlinecolor": "#2a3f5f",
                          "gridcolor": "white",
                          "linecolor": "white",
                          "minorgridcolor": "white",
                          "startlinecolor": "#2a3f5f"
                        },
                        "baxis": {
                          "endlinecolor": "#2a3f5f",
                          "gridcolor": "white",
                          "linecolor": "white",
                          "minorgridcolor": "white",
                          "startlinecolor": "#2a3f5f"
                        },
                        "type": "carpet"
                      }
                    ],
                    "choropleth": [
                      {
                        "colorbar": {
                          "outlinewidth": 0,
                          "ticks": ""
                        },
                        "type": "choropleth"
                      }
                    ],
                    "contour": [
                      {
                        "colorbar": {
                          "outlinewidth": 0,
                          "ticks": ""
                        },
                        "colorscale": [
                          [
                            0,
                            "#0d0887"
                          ],
                          [
                            0.1111111111111111,
                            "#46039f"
                          ],
                          [
                            0.2222222222222222,
                            "#7201a8"
                          ],
                          [
                            0.3333333333333333,
                            "#9c179e"
                          ],
                          [
                            0.4444444444444444,
                            "#bd3786"
                          ],
                          [
                            0.5555555555555556,
                            "#d8576b"
                          ],
                          [
                            0.6666666666666666,
                            "#ed7953"
                          ],
                          [
                            0.7777777777777778,
                            "#fb9f3a"
                          ],
                          [
                            0.8888888888888888,
                            "#fdca26"
                          ],
                          [
                            1,
                            "#f0f921"
                          ]
                        ],
                        "type": "contour"
                      }
                    ],
                    "contourcarpet": [
                      {
                        "colorbar": {
                          "outlinewidth": 0,
                          "ticks": ""
                        },
                        "type": "contourcarpet"
                      }
                    ],
                    "heatmap": [
                      {
                        "colorbar": {
                          "outlinewidth": 0,
                          "ticks": ""
                        },
                        "colorscale": [
                          [
                            0,
                            "#0d0887"
                          ],
                          [
                            0.1111111111111111,
                            "#46039f"
                          ],
                          [
                            0.2222222222222222,
                            "#7201a8"
                          ],
                          [
                            0.3333333333333333,
                            "#9c179e"
                          ],
                          [
                            0.4444444444444444,
                            "#bd3786"
                          ],
                          [
                            0.5555555555555556,
                            "#d8576b"
                          ],
                          [
                            0.6666666666666666,
                            "#ed7953"
                          ],
                          [
                            0.7777777777777778,
                            "#fb9f3a"
                          ],
                          [
                            0.8888888888888888,
                            "#fdca26"
                          ],
                          [
                            1,
                            "#f0f921"
                          ]
                        ],
                        "type": "heatmap"
                      }
                    ],
                    "heatmapgl": [
                      {
                        "colorbar": {
                          "outlinewidth": 0,
                          "ticks": ""
                        },
                        "colorscale": [
                          [
                            0,
                            "#0d0887"
                          ],
                          [
                            0.1111111111111111,
                            "#46039f"
                          ],
                          [
                            0.2222222222222222,
                            "#7201a8"
                          ],
                          [
                            0.3333333333333333,
                            "#9c179e"
                          ],
                          [
                            0.4444444444444444,
                            "#bd3786"
                          ],
                          [
                            0.5555555555555556,
                            "#d8576b"
                          ],
                          [
                            0.6666666666666666,
                            "#ed7953"
                          ],
                          [
                            0.7777777777777778,
                            "#fb9f3a"
                          ],
                          [
                            0.8888888888888888,
                            "#fdca26"
                          ],
                          [
                            1,
                            "#f0f921"
                          ]
                        ],
                        "type": "heatmapgl"
                      }
                    ],
                    "histogram": [
                      {
                        "marker": {
                          "pattern": {
                            "fillmode": "overlay",
                            "size": 10,
                            "solidity": 0.2
                          }
                        },
                        "type": "histogram"
                      }
                    ],
                    "histogram2d": [
                      {
                        "colorbar": {
                          "outlinewidth": 0,
                          "ticks": ""
                        },
                        "colorscale": [
                          [
                            0,
                            "#0d0887"
                          ],
                          [
                            0.1111111111111111,
                            "#46039f"
                          ],
                          [
                            0.2222222222222222,
                            "#7201a8"
                          ],
                          [
                            0.3333333333333333,
                            "#9c179e"
                          ],
                          [
                            0.4444444444444444,
                            "#bd3786"
                          ],
                          [
                            0.5555555555555556,
                            "#d8576b"
                          ],
                          [
                            0.6666666666666666,
                            "#ed7953"
                          ],
                          [
                            0.7777777777777778,
                            "#fb9f3a"
                          ],
                          [
                            0.8888888888888888,
                            "#fdca26"
                          ],
                          [
                            1,
                            "#f0f921"
                          ]
                        ],
                        "type": "histogram2d"
                      }
                    ],
                    "histogram2dcontour": [
                      {
                        "colorbar": {
                          "outlinewidth": 0,
                          "ticks": ""
                        },
                        "colorscale": [
                          [
                            0,
                            "#0d0887"
                          ],
                          [
                            0.1111111111111111,
                            "#46039f"
                          ],
                          [
                            0.2222222222222222,
                            "#7201a8"
                          ],
                          [
                            0.3333333333333333,
                            "#9c179e"
                          ],
                          [
                            0.4444444444444444,
                            "#bd3786"
                          ],
                          [
                            0.5555555555555556,
                            "#d8576b"
                          ],
                          [
                            0.6666666666666666,
                            "#ed7953"
                          ],
                          [
                            0.7777777777777778,
                            "#fb9f3a"
                          ],
                          [
                            0.8888888888888888,
                            "#fdca26"
                          ],
                          [
                            1,
                            "#f0f921"
                          ]
                        ],
                        "type": "histogram2dcontour"
                      }
                    ],
                    "mesh3d": [
                      {
                        "colorbar": {
                          "outlinewidth": 0,
                          "ticks": ""
                        },
                        "type": "mesh3d"
                      }
                    ],
                    "parcoords": [
                      {
                        "line": {
                          "colorbar": {
                            "outlinewidth": 0,
                            "ticks": ""
                          }
                        },
                        "type": "parcoords"
                      }
                    ],
                    "pie": [
                      {
                        "automargin": true,
                        "type": "pie"
                      }
                    ],
                    "scatter": [
                      {
                        "fillpattern": {
                          "fillmode": "overlay",
                          "size": 10,
                          "solidity": 0.2
                        },
                        "type": "scatter"
                      }
                    ],
                    "scatter3d": [
                      {
                        "line": {
                          "colorbar": {
                            "outlinewidth": 0,
                            "ticks": ""
                          }
                        },
                        "marker": {
                          "colorbar": {
                            "outlinewidth": 0,
                            "ticks": ""
                          }
                        },
                        "type": "scatter3d"
                      }
                    ],
                    "scattercarpet": [
                      {
                        "marker": {
                          "colorbar": {
                            "outlinewidth": 0,
                            "ticks": ""
                          }
                        },
                        "type": "scattercarpet"
                      }
                    ],
                    "scattergeo": [
                      {
                        "marker": {
                          "colorbar": {
                            "outlinewidth": 0,
                            "ticks": ""
                          }
                        },
                        "type": "scattergeo"
                      }
                    ],
                    "scattergl": [
                      {
                        "marker": {
                          "colorbar": {
                            "outlinewidth": 0,
                            "ticks": ""
                          }
                        },
                        "type": "scattergl"
                      }
                    ],
                    "scattermapbox": [
                      {
                        "marker": {
                          "colorbar": {
                            "outlinewidth": 0,
                            "ticks": ""
                          }
                        },
                        "type": "scattermapbox"
                      }
                    ],
                    "scatterpolar": [
                      {
                        "marker": {
                          "colorbar": {
                            "outlinewidth": 0,
                            "ticks": ""
                          }
                        },
                        "type": "scatterpolar"
                      }
                    ],
                    "scatterpolargl": [
                      {
                        "marker": {
                          "colorbar": {
                            "outlinewidth": 0,
                            "ticks": ""
                          }
                        },
                        "type": "scatterpolargl"
                      }
                    ],
                    "scatterternary": [
                      {
                        "marker": {
                          "colorbar": {
                            "outlinewidth": 0,
                            "ticks": ""
                          }
                        },
                        "type": "scatterternary"
                      }
                    ],
                    "surface": [
                      {
                        "colorbar": {
                          "outlinewidth": 0,
                          "ticks": ""
                        },
                        "colorscale": [
                          [
                            0,
                            "#0d0887"
                          ],
                          [
                            0.1111111111111111,
                            "#46039f"
                          ],
                          [
                            0.2222222222222222,
                            "#7201a8"
                          ],
                          [
                            0.3333333333333333,
                            "#9c179e"
                          ],
                          [
                            0.4444444444444444,
                            "#bd3786"
                          ],
                          [
                            0.5555555555555556,
                            "#d8576b"
                          ],
                          [
                            0.6666666666666666,
                            "#ed7953"
                          ],
                          [
                            0.7777777777777778,
                            "#fb9f3a"
                          ],
                          [
                            0.8888888888888888,
                            "#fdca26"
                          ],
                          [
                            1,
                            "#f0f921"
                          ]
                        ],
                        "type": "surface"
                      }
                    ],
                    "table": [
                      {
                        "cells": {
                          "fill": {
                            "color": "#EBF0F8"
                          },
                          "line": {
                            "color": "white"
                          }
                        },
                        "header": {
                          "fill": {
                            "color": "#C8D4E3"
                          },
                          "line": {
                            "color": "white"
                          }
                        },
                        "type": "table"
                      }
                    ]
                  },
                  "layout": {
                    "annotationdefaults": {
                      "arrowcolor": "#2a3f5f",
                      "arrowhead": 0,
                      "arrowwidth": 1
                    },
                    "autotypenumbers": "strict",
                    "coloraxis": {
                      "colorbar": {
                        "outlinewidth": 0,
                        "ticks": ""
                      }
                    },
                    "colorscale": {
                      "diverging": [
                        [
                          0,
                          "#8e0152"
                        ],
                        [
                          0.1,
                          "#c51b7d"
                        ],
                        [
                          0.2,
                          "#de77ae"
                        ],
                        [
                          0.3,
                          "#f1b6da"
                        ],
                        [
                          0.4,
                          "#fde0ef"
                        ],
                        [
                          0.5,
                          "#f7f7f7"
                        ],
                        [
                          0.6,
                          "#e6f5d0"
                        ],
                        [
                          0.7,
                          "#b8e186"
                        ],
                        [
                          0.8,
                          "#7fbc41"
                        ],
                        [
                          0.9,
                          "#4d9221"
                        ],
                        [
                          1,
                          "#276419"
                        ]
                      ],
                      "sequential": [
                        [
                          0,
                          "#0d0887"
                        ],
                        [
                          0.1111111111111111,
                          "#46039f"
                        ],
                        [
                          0.2222222222222222,
                          "#7201a8"
                        ],
                        [
                          0.3333333333333333,
                          "#9c179e"
                        ],
                        [
                          0.4444444444444444,
                          "#bd3786"
                        ],
                        [
                          0.5555555555555556,
                          "#d8576b"
                        ],
                        [
                          0.6666666666666666,
                          "#ed7953"
                        ],
                        [
                          0.7777777777777778,
                          "#fb9f3a"
                        ],
                        [
                          0.8888888888888888,
                          "#fdca26"
                        ],
                        [
                          1,
                          "#f0f921"
                        ]
                      ],
                      "sequentialminus": [
                        [
                          0,
                          "#0d0887"
                        ],
                        [
                          0.1111111111111111,
                          "#46039f"
                        ],
                        [
                          0.2222222222222222,
                          "#7201a8"
                        ],
                        [
                          0.3333333333333333,
                          "#9c179e"
                        ],
                        [
                          0.4444444444444444,
                          "#bd3786"
                        ],
                        [
                          0.5555555555555556,
                          "#d8576b"
                        ],
                        [
                          0.6666666666666666,
                          "#ed7953"
                        ],
                        [
                          0.7777777777777778,
                          "#fb9f3a"
                        ],
                        [
                          0.8888888888888888,
                          "#fdca26"
                        ],
                        [
                          1,
                          "#f0f921"
                        ]
                      ]
                    },
                    "colorway": [
                      "#636efa",
                      "#EF553B",
                      "#00cc96",
                      "#ab63fa",
                      "#FFA15A",
                      "#19d3f3",
                      "#FF6692",
                      "#B6E880",
                      "#FF97FF",
                      "#FECB52"
                    ],
                    "font": {
                      "color": "#2a3f5f"
                    },
                    "geo": {
                      "bgcolor": "white",
                      "lakecolor": "white",
                      "landcolor": "#E5ECF6",
                      "showlakes": true,
                      "showland": true,
                      "subunitcolor": "white"
                    },
                    "hoverlabel": {
                      "align": "left"
                    },
                    "hovermode": "closest",
                    "mapbox": {
                      "style": "light"
                    },
                    "paper_bgcolor": "white",
                    "plot_bgcolor": "#E5ECF6",
                    "polar": {
                      "angularaxis": {
                        "gridcolor": "white",
                        "linecolor": "white",
                        "ticks": ""
                      },
                      "bgcolor": "#E5ECF6",
                      "radialaxis": {
                        "gridcolor": "white",
                        "linecolor": "white",
                        "ticks": ""
                      }
                    },
                    "scene": {
                      "xaxis": {
                        "backgroundcolor": "#E5ECF6",
                        "gridcolor": "white",
                        "gridwidth": 2,
                        "linecolor": "white",
                        "showbackground": true,
                        "ticks": "",
                        "zerolinecolor": "white"
                      },
                      "yaxis": {
                        "backgroundcolor": "#E5ECF6",
                        "gridcolor": "white",
                        "gridwidth": 2,
                        "linecolor": "white",
                        "showbackground": true,
                        "ticks": "",
                        "zerolinecolor": "white"
                      },
                      "zaxis": {
                        "backgroundcolor": "#E5ECF6",
                        "gridcolor": "white",
                        "gridwidth": 2,
                        "linecolor": "white",
                        "showbackground": true,
                        "ticks": "",
                        "zerolinecolor": "white"
                      }
                    },
                    "shapedefaults": {
                      "line": {
                        "color": "#2a3f5f"
                      }
                    },
                    "ternary": {
                      "aaxis": {
                        "gridcolor": "white",
                        "linecolor": "white",
                        "ticks": ""
                      },
                      "baxis": {
                        "gridcolor": "white",
                        "linecolor": "white",
                        "ticks": ""
                      },
                      "bgcolor": "#E5ECF6",
                      "caxis": {
                        "gridcolor": "white",
                        "linecolor": "white",
                        "ticks": ""
                      }
                    },
                    "title": {
                      "x": 0.05
                    },
                    "xaxis": {
                      "automargin": true,
                      "gridcolor": "white",
                      "linecolor": "white",
                      "ticks": "",
                      "title": {
                        "standoff": 15
                      },
                      "zerolinecolor": "white",
                      "zerolinewidth": 2
                    },
                    "yaxis": {
                      "automargin": true,
                      "gridcolor": "white",
                      "linecolor": "white",
                      "ticks": "",
                      "title": {
                        "standoff": 15
                      },
                      "zerolinecolor": "white",
                      "zerolinewidth": 2
                    }
                  }
                },
                "title": {
                  "text": "Receiver Operating Characteristic (ROC)"
                },
                "width": 800,
                "xaxis": {
                  "range": [
                    0,
                    1
                  ],
                  "title": {
                    "text": "False Positive Rate"
                  }
                },
                "yaxis": {
                  "range": [
                    0,
                    1.05
                  ],
                  "title": {
                    "text": "True Positive Rate"
                  }
                }
              }
            }
          },
          "metadata": {},
          "output_type": "display_data"
        }
      ],
      "source": [
        "#Curva ROC para cada um dos temas\n",
        "import plotly.graph_objects as go\n",
        "from sklearn.metrics import roc_curve, auc\n",
        "import numpy as np\n",
        "from sklearn.preprocessing import LabelBinarizer\n",
        "\n",
        "\n",
        "y_true = test['label'].tolist()\n",
        "y_pred = test[\"pred_label\"].to_list()\n",
        "\n",
        "\n",
        "lb = LabelBinarizer()\n",
        "lb.fit(y_true)\n",
        "y_true_bin = lb.transform(y_true)\n",
        "y_pred_bin = lb.transform(y_pred)\n",
        "\n",
        "\n",
        "class_mapping = {index: class_name for index, class_name in enumerate(lb.classes_)}\n",
        "\n",
        "\n",
        "fpr = dict()\n",
        "tpr = dict()\n",
        "roc_auc = dict()\n",
        "n_classes = len(lb.classes_)\n",
        "\n",
        "for i in range(n_classes):\n",
        "    fpr[i], tpr[i], _ = roc_curve(y_true_bin[:, i], y_pred_bin[:, i])\n",
        "    roc_auc[i] = auc(fpr[i], tpr[i])\n",
        "\n",
        "\n",
        "fig = go.Figure()\n",
        "\n",
        "for i in range(n_classes):\n",
        "\n",
        "    fpr_interp = np.linspace(0, 1, 100)\n",
        "    tpr_interp = np.interp(fpr_interp, fpr[i], tpr[i])\n",
        "    fig.add_trace(go.Scatter(\n",
        "        x=fpr_interp,\n",
        "        y=tpr_interp,\n",
        "        mode='lines',\n",
        "        name=f'{class_mapping[i]} (area = {roc_auc[i]:0.2f})'\n",
        "    ))\n",
        "\n",
        "\n",
        "fig.add_trace(go.Scatter(\n",
        "    x=[0, 1],\n",
        "    y=[0, 1],\n",
        "    mode='lines',\n",
        "    line=dict(color='navy', dash='dash'),\n",
        "    showlegend=False\n",
        "))\n",
        "\n",
        "\n",
        "fig.update_layout(\n",
        "    title='Receiver Operating Characteristic (ROC)',\n",
        "    xaxis_title='False Positive Rate',\n",
        "    yaxis_title='True Positive Rate',\n",
        "    xaxis=dict(range=[0, 1]),\n",
        "    yaxis=dict(range=[0, 1.05]),\n",
        "    legend=dict(x=0.8, y=0.2),\n",
        "    width=800,\n",
        "    height=600\n",
        ")\n",
        "\n",
        "fig.show()\n"
      ]
    },
    {
      "cell_type": "code",
      "execution_count": 14,
      "metadata": {
        "colab": {
          "base_uri": "https://localhost:8080/",
          "height": 617
        },
        "id": "taq-4QEdSzn1",
        "outputId": "647b11a4-356e-4ee2-a278-0a7a58d8625e"
      },
      "outputs": [
        {
          "data": {
            "application/vnd.plotly.v1+json": {
              "config": {
                "plotlyServerURL": "https://plot.ly"
              },
              "data": [
                {
                  "mode": "lines+markers",
                  "name": "dignidade sexual",
                  "type": "scatter",
                  "x": [
                    0,
                    1
                  ],
                  "y": [
                    0.013157894736842105,
                    0.9375
                  ]
                },
                {
                  "mode": "lines+markers",
                  "name": "direitos sexuais e reprodutivos",
                  "type": "scatter",
                  "x": [
                    0,
                    1
                  ],
                  "y": [
                    0.02,
                    0.8888888888888888
                  ]
                },
                {
                  "mode": "lines+markers",
                  "name": "direitos sociais",
                  "type": "scatter",
                  "x": [
                    0,
                    1
                  ],
                  "y": [
                    0.05333333333333334,
                    0.6111111111111112
                  ]
                },
                {
                  "mode": "lines+markers",
                  "name": "economia",
                  "type": "scatter",
                  "x": [
                    0,
                    1
                  ],
                  "y": [
                    0.0440251572327044,
                    0.7777777777777778
                  ]
                },
                {
                  "mode": "lines+markers",
                  "name": "feminicidio",
                  "type": "scatter",
                  "x": [
                    0,
                    1
                  ],
                  "y": [
                    0.006172839506172839,
                    0.6666666666666666
                  ]
                },
                {
                  "mode": "lines+markers",
                  "name": "genero",
                  "type": "scatter",
                  "x": [
                    0,
                    1
                  ],
                  "y": [
                    0,
                    0.8125
                  ]
                },
                {
                  "mode": "lines+markers",
                  "name": "maternidade",
                  "type": "scatter",
                  "x": [
                    0,
                    1
                  ],
                  "y": [
                    0.033783783783783786,
                    0.7
                  ]
                },
                {
                  "mode": "lines+markers",
                  "name": "politica",
                  "type": "scatter",
                  "x": [
                    0,
                    1
                  ],
                  "y": [
                    0.006211180124223602,
                    1
                  ]
                },
                {
                  "mode": "lines+markers",
                  "name": "violencia contra a mulher",
                  "type": "scatter",
                  "x": [
                    0,
                    1
                  ],
                  "y": [
                    0.03636363636363636,
                    0.8620689655172413
                  ]
                },
                {
                  "line": {
                    "color": "navy",
                    "dash": "dash"
                  },
                  "mode": "lines",
                  "showlegend": false,
                  "type": "scatter",
                  "x": [
                    0,
                    1
                  ],
                  "y": [
                    0,
                    1
                  ]
                }
              ],
              "layout": {
                "height": 600,
                "legend": {
                  "x": 0.8,
                  "y": 0.2
                },
                "template": {
                  "data": {
                    "bar": [
                      {
                        "error_x": {
                          "color": "#2a3f5f"
                        },
                        "error_y": {
                          "color": "#2a3f5f"
                        },
                        "marker": {
                          "line": {
                            "color": "#E5ECF6",
                            "width": 0.5
                          },
                          "pattern": {
                            "fillmode": "overlay",
                            "size": 10,
                            "solidity": 0.2
                          }
                        },
                        "type": "bar"
                      }
                    ],
                    "barpolar": [
                      {
                        "marker": {
                          "line": {
                            "color": "#E5ECF6",
                            "width": 0.5
                          },
                          "pattern": {
                            "fillmode": "overlay",
                            "size": 10,
                            "solidity": 0.2
                          }
                        },
                        "type": "barpolar"
                      }
                    ],
                    "carpet": [
                      {
                        "aaxis": {
                          "endlinecolor": "#2a3f5f",
                          "gridcolor": "white",
                          "linecolor": "white",
                          "minorgridcolor": "white",
                          "startlinecolor": "#2a3f5f"
                        },
                        "baxis": {
                          "endlinecolor": "#2a3f5f",
                          "gridcolor": "white",
                          "linecolor": "white",
                          "minorgridcolor": "white",
                          "startlinecolor": "#2a3f5f"
                        },
                        "type": "carpet"
                      }
                    ],
                    "choropleth": [
                      {
                        "colorbar": {
                          "outlinewidth": 0,
                          "ticks": ""
                        },
                        "type": "choropleth"
                      }
                    ],
                    "contour": [
                      {
                        "colorbar": {
                          "outlinewidth": 0,
                          "ticks": ""
                        },
                        "colorscale": [
                          [
                            0,
                            "#0d0887"
                          ],
                          [
                            0.1111111111111111,
                            "#46039f"
                          ],
                          [
                            0.2222222222222222,
                            "#7201a8"
                          ],
                          [
                            0.3333333333333333,
                            "#9c179e"
                          ],
                          [
                            0.4444444444444444,
                            "#bd3786"
                          ],
                          [
                            0.5555555555555556,
                            "#d8576b"
                          ],
                          [
                            0.6666666666666666,
                            "#ed7953"
                          ],
                          [
                            0.7777777777777778,
                            "#fb9f3a"
                          ],
                          [
                            0.8888888888888888,
                            "#fdca26"
                          ],
                          [
                            1,
                            "#f0f921"
                          ]
                        ],
                        "type": "contour"
                      }
                    ],
                    "contourcarpet": [
                      {
                        "colorbar": {
                          "outlinewidth": 0,
                          "ticks": ""
                        },
                        "type": "contourcarpet"
                      }
                    ],
                    "heatmap": [
                      {
                        "colorbar": {
                          "outlinewidth": 0,
                          "ticks": ""
                        },
                        "colorscale": [
                          [
                            0,
                            "#0d0887"
                          ],
                          [
                            0.1111111111111111,
                            "#46039f"
                          ],
                          [
                            0.2222222222222222,
                            "#7201a8"
                          ],
                          [
                            0.3333333333333333,
                            "#9c179e"
                          ],
                          [
                            0.4444444444444444,
                            "#bd3786"
                          ],
                          [
                            0.5555555555555556,
                            "#d8576b"
                          ],
                          [
                            0.6666666666666666,
                            "#ed7953"
                          ],
                          [
                            0.7777777777777778,
                            "#fb9f3a"
                          ],
                          [
                            0.8888888888888888,
                            "#fdca26"
                          ],
                          [
                            1,
                            "#f0f921"
                          ]
                        ],
                        "type": "heatmap"
                      }
                    ],
                    "heatmapgl": [
                      {
                        "colorbar": {
                          "outlinewidth": 0,
                          "ticks": ""
                        },
                        "colorscale": [
                          [
                            0,
                            "#0d0887"
                          ],
                          [
                            0.1111111111111111,
                            "#46039f"
                          ],
                          [
                            0.2222222222222222,
                            "#7201a8"
                          ],
                          [
                            0.3333333333333333,
                            "#9c179e"
                          ],
                          [
                            0.4444444444444444,
                            "#bd3786"
                          ],
                          [
                            0.5555555555555556,
                            "#d8576b"
                          ],
                          [
                            0.6666666666666666,
                            "#ed7953"
                          ],
                          [
                            0.7777777777777778,
                            "#fb9f3a"
                          ],
                          [
                            0.8888888888888888,
                            "#fdca26"
                          ],
                          [
                            1,
                            "#f0f921"
                          ]
                        ],
                        "type": "heatmapgl"
                      }
                    ],
                    "histogram": [
                      {
                        "marker": {
                          "pattern": {
                            "fillmode": "overlay",
                            "size": 10,
                            "solidity": 0.2
                          }
                        },
                        "type": "histogram"
                      }
                    ],
                    "histogram2d": [
                      {
                        "colorbar": {
                          "outlinewidth": 0,
                          "ticks": ""
                        },
                        "colorscale": [
                          [
                            0,
                            "#0d0887"
                          ],
                          [
                            0.1111111111111111,
                            "#46039f"
                          ],
                          [
                            0.2222222222222222,
                            "#7201a8"
                          ],
                          [
                            0.3333333333333333,
                            "#9c179e"
                          ],
                          [
                            0.4444444444444444,
                            "#bd3786"
                          ],
                          [
                            0.5555555555555556,
                            "#d8576b"
                          ],
                          [
                            0.6666666666666666,
                            "#ed7953"
                          ],
                          [
                            0.7777777777777778,
                            "#fb9f3a"
                          ],
                          [
                            0.8888888888888888,
                            "#fdca26"
                          ],
                          [
                            1,
                            "#f0f921"
                          ]
                        ],
                        "type": "histogram2d"
                      }
                    ],
                    "histogram2dcontour": [
                      {
                        "colorbar": {
                          "outlinewidth": 0,
                          "ticks": ""
                        },
                        "colorscale": [
                          [
                            0,
                            "#0d0887"
                          ],
                          [
                            0.1111111111111111,
                            "#46039f"
                          ],
                          [
                            0.2222222222222222,
                            "#7201a8"
                          ],
                          [
                            0.3333333333333333,
                            "#9c179e"
                          ],
                          [
                            0.4444444444444444,
                            "#bd3786"
                          ],
                          [
                            0.5555555555555556,
                            "#d8576b"
                          ],
                          [
                            0.6666666666666666,
                            "#ed7953"
                          ],
                          [
                            0.7777777777777778,
                            "#fb9f3a"
                          ],
                          [
                            0.8888888888888888,
                            "#fdca26"
                          ],
                          [
                            1,
                            "#f0f921"
                          ]
                        ],
                        "type": "histogram2dcontour"
                      }
                    ],
                    "mesh3d": [
                      {
                        "colorbar": {
                          "outlinewidth": 0,
                          "ticks": ""
                        },
                        "type": "mesh3d"
                      }
                    ],
                    "parcoords": [
                      {
                        "line": {
                          "colorbar": {
                            "outlinewidth": 0,
                            "ticks": ""
                          }
                        },
                        "type": "parcoords"
                      }
                    ],
                    "pie": [
                      {
                        "automargin": true,
                        "type": "pie"
                      }
                    ],
                    "scatter": [
                      {
                        "fillpattern": {
                          "fillmode": "overlay",
                          "size": 10,
                          "solidity": 0.2
                        },
                        "type": "scatter"
                      }
                    ],
                    "scatter3d": [
                      {
                        "line": {
                          "colorbar": {
                            "outlinewidth": 0,
                            "ticks": ""
                          }
                        },
                        "marker": {
                          "colorbar": {
                            "outlinewidth": 0,
                            "ticks": ""
                          }
                        },
                        "type": "scatter3d"
                      }
                    ],
                    "scattercarpet": [
                      {
                        "marker": {
                          "colorbar": {
                            "outlinewidth": 0,
                            "ticks": ""
                          }
                        },
                        "type": "scattercarpet"
                      }
                    ],
                    "scattergeo": [
                      {
                        "marker": {
                          "colorbar": {
                            "outlinewidth": 0,
                            "ticks": ""
                          }
                        },
                        "type": "scattergeo"
                      }
                    ],
                    "scattergl": [
                      {
                        "marker": {
                          "colorbar": {
                            "outlinewidth": 0,
                            "ticks": ""
                          }
                        },
                        "type": "scattergl"
                      }
                    ],
                    "scattermapbox": [
                      {
                        "marker": {
                          "colorbar": {
                            "outlinewidth": 0,
                            "ticks": ""
                          }
                        },
                        "type": "scattermapbox"
                      }
                    ],
                    "scatterpolar": [
                      {
                        "marker": {
                          "colorbar": {
                            "outlinewidth": 0,
                            "ticks": ""
                          }
                        },
                        "type": "scatterpolar"
                      }
                    ],
                    "scatterpolargl": [
                      {
                        "marker": {
                          "colorbar": {
                            "outlinewidth": 0,
                            "ticks": ""
                          }
                        },
                        "type": "scatterpolargl"
                      }
                    ],
                    "scatterternary": [
                      {
                        "marker": {
                          "colorbar": {
                            "outlinewidth": 0,
                            "ticks": ""
                          }
                        },
                        "type": "scatterternary"
                      }
                    ],
                    "surface": [
                      {
                        "colorbar": {
                          "outlinewidth": 0,
                          "ticks": ""
                        },
                        "colorscale": [
                          [
                            0,
                            "#0d0887"
                          ],
                          [
                            0.1111111111111111,
                            "#46039f"
                          ],
                          [
                            0.2222222222222222,
                            "#7201a8"
                          ],
                          [
                            0.3333333333333333,
                            "#9c179e"
                          ],
                          [
                            0.4444444444444444,
                            "#bd3786"
                          ],
                          [
                            0.5555555555555556,
                            "#d8576b"
                          ],
                          [
                            0.6666666666666666,
                            "#ed7953"
                          ],
                          [
                            0.7777777777777778,
                            "#fb9f3a"
                          ],
                          [
                            0.8888888888888888,
                            "#fdca26"
                          ],
                          [
                            1,
                            "#f0f921"
                          ]
                        ],
                        "type": "surface"
                      }
                    ],
                    "table": [
                      {
                        "cells": {
                          "fill": {
                            "color": "#EBF0F8"
                          },
                          "line": {
                            "color": "white"
                          }
                        },
                        "header": {
                          "fill": {
                            "color": "#C8D4E3"
                          },
                          "line": {
                            "color": "white"
                          }
                        },
                        "type": "table"
                      }
                    ]
                  },
                  "layout": {
                    "annotationdefaults": {
                      "arrowcolor": "#2a3f5f",
                      "arrowhead": 0,
                      "arrowwidth": 1
                    },
                    "autotypenumbers": "strict",
                    "coloraxis": {
                      "colorbar": {
                        "outlinewidth": 0,
                        "ticks": ""
                      }
                    },
                    "colorscale": {
                      "diverging": [
                        [
                          0,
                          "#8e0152"
                        ],
                        [
                          0.1,
                          "#c51b7d"
                        ],
                        [
                          0.2,
                          "#de77ae"
                        ],
                        [
                          0.3,
                          "#f1b6da"
                        ],
                        [
                          0.4,
                          "#fde0ef"
                        ],
                        [
                          0.5,
                          "#f7f7f7"
                        ],
                        [
                          0.6,
                          "#e6f5d0"
                        ],
                        [
                          0.7,
                          "#b8e186"
                        ],
                        [
                          0.8,
                          "#7fbc41"
                        ],
                        [
                          0.9,
                          "#4d9221"
                        ],
                        [
                          1,
                          "#276419"
                        ]
                      ],
                      "sequential": [
                        [
                          0,
                          "#0d0887"
                        ],
                        [
                          0.1111111111111111,
                          "#46039f"
                        ],
                        [
                          0.2222222222222222,
                          "#7201a8"
                        ],
                        [
                          0.3333333333333333,
                          "#9c179e"
                        ],
                        [
                          0.4444444444444444,
                          "#bd3786"
                        ],
                        [
                          0.5555555555555556,
                          "#d8576b"
                        ],
                        [
                          0.6666666666666666,
                          "#ed7953"
                        ],
                        [
                          0.7777777777777778,
                          "#fb9f3a"
                        ],
                        [
                          0.8888888888888888,
                          "#fdca26"
                        ],
                        [
                          1,
                          "#f0f921"
                        ]
                      ],
                      "sequentialminus": [
                        [
                          0,
                          "#0d0887"
                        ],
                        [
                          0.1111111111111111,
                          "#46039f"
                        ],
                        [
                          0.2222222222222222,
                          "#7201a8"
                        ],
                        [
                          0.3333333333333333,
                          "#9c179e"
                        ],
                        [
                          0.4444444444444444,
                          "#bd3786"
                        ],
                        [
                          0.5555555555555556,
                          "#d8576b"
                        ],
                        [
                          0.6666666666666666,
                          "#ed7953"
                        ],
                        [
                          0.7777777777777778,
                          "#fb9f3a"
                        ],
                        [
                          0.8888888888888888,
                          "#fdca26"
                        ],
                        [
                          1,
                          "#f0f921"
                        ]
                      ]
                    },
                    "colorway": [
                      "#636efa",
                      "#EF553B",
                      "#00cc96",
                      "#ab63fa",
                      "#FFA15A",
                      "#19d3f3",
                      "#FF6692",
                      "#B6E880",
                      "#FF97FF",
                      "#FECB52"
                    ],
                    "font": {
                      "color": "#2a3f5f"
                    },
                    "geo": {
                      "bgcolor": "white",
                      "lakecolor": "white",
                      "landcolor": "#E5ECF6",
                      "showlakes": true,
                      "showland": true,
                      "subunitcolor": "white"
                    },
                    "hoverlabel": {
                      "align": "left"
                    },
                    "hovermode": "closest",
                    "mapbox": {
                      "style": "light"
                    },
                    "paper_bgcolor": "white",
                    "plot_bgcolor": "#E5ECF6",
                    "polar": {
                      "angularaxis": {
                        "gridcolor": "white",
                        "linecolor": "white",
                        "ticks": ""
                      },
                      "bgcolor": "#E5ECF6",
                      "radialaxis": {
                        "gridcolor": "white",
                        "linecolor": "white",
                        "ticks": ""
                      }
                    },
                    "scene": {
                      "xaxis": {
                        "backgroundcolor": "#E5ECF6",
                        "gridcolor": "white",
                        "gridwidth": 2,
                        "linecolor": "white",
                        "showbackground": true,
                        "ticks": "",
                        "zerolinecolor": "white"
                      },
                      "yaxis": {
                        "backgroundcolor": "#E5ECF6",
                        "gridcolor": "white",
                        "gridwidth": 2,
                        "linecolor": "white",
                        "showbackground": true,
                        "ticks": "",
                        "zerolinecolor": "white"
                      },
                      "zaxis": {
                        "backgroundcolor": "#E5ECF6",
                        "gridcolor": "white",
                        "gridwidth": 2,
                        "linecolor": "white",
                        "showbackground": true,
                        "ticks": "",
                        "zerolinecolor": "white"
                      }
                    },
                    "shapedefaults": {
                      "line": {
                        "color": "#2a3f5f"
                      }
                    },
                    "ternary": {
                      "aaxis": {
                        "gridcolor": "white",
                        "linecolor": "white",
                        "ticks": ""
                      },
                      "baxis": {
                        "gridcolor": "white",
                        "linecolor": "white",
                        "ticks": ""
                      },
                      "bgcolor": "#E5ECF6",
                      "caxis": {
                        "gridcolor": "white",
                        "linecolor": "white",
                        "ticks": ""
                      }
                    },
                    "title": {
                      "x": 0.05
                    },
                    "xaxis": {
                      "automargin": true,
                      "gridcolor": "white",
                      "linecolor": "white",
                      "ticks": "",
                      "title": {
                        "standoff": 15
                      },
                      "zerolinecolor": "white",
                      "zerolinewidth": 2
                    },
                    "yaxis": {
                      "automargin": true,
                      "gridcolor": "white",
                      "linecolor": "white",
                      "ticks": "",
                      "title": {
                        "standoff": 15
                      },
                      "zerolinecolor": "white",
                      "zerolinewidth": 2
                    }
                  }
                },
                "title": {
                  "text": "Calibration Curve"
                },
                "width": 800,
                "xaxis": {
                  "range": [
                    0,
                    1
                  ],
                  "title": {
                    "text": "Média das probabilidades preditas"
                  }
                },
                "yaxis": {
                  "range": [
                    0,
                    1.05
                  ],
                  "title": {
                    "text": "Fração de positivos"
                  }
                }
              }
            }
          },
          "metadata": {},
          "output_type": "display_data"
        }
      ],
      "source": [
        "# Curva de calibração para cada um dos temas\n",
        "from sklearn.calibration import calibration_curve\n",
        "import plotly.graph_objects as go\n",
        "from sklearn.metrics import roc_curve, auc\n",
        "import numpy as np\n",
        "from sklearn.preprocessing import LabelBinarizer\n",
        "\n",
        "y_true = test['label'].tolist()\n",
        "y_pred = test[\"pred_label\"].to_list()\n",
        "\n",
        "#\n",
        "lb = LabelBinarizer()\n",
        "lb.fit(y_true)\n",
        "y_true_bin = lb.transform(y_true)\n",
        "y_pred_bin = lb.transform(y_pred)\n",
        "\n",
        "\n",
        "class_mapping = {index: class_name for index, class_name in enumerate(lb.classes_)}\n",
        "\n",
        "\n",
        "prob_true = dict()\n",
        "prob_pred = dict()\n",
        "n_classes = len(lb.classes_)\n",
        "\n",
        "for i in range(n_classes):\n",
        "    prob_true[i], prob_pred[i] = calibration_curve(y_true_bin[:, i], y_pred_bin[:, i], n_bins=10)\n",
        "\n",
        "\n",
        "fig = go.Figure()\n",
        "\n",
        "for i in range(n_classes):\n",
        "    fig.add_trace(go.Scatter(\n",
        "        x=prob_pred[i],\n",
        "        y=prob_true[i],\n",
        "        mode='lines+markers',\n",
        "        name=class_mapping[i]\n",
        "    ))\n",
        "\n",
        "\n",
        "fig.add_trace(go.Scatter(\n",
        "    x=[0, 1],\n",
        "    y=[0, 1],\n",
        "    mode='lines',\n",
        "    line=dict(color='navy', dash='dash'),\n",
        "    showlegend=False\n",
        "))\n",
        "\n",
        "\n",
        "fig.update_layout(\n",
        "    title='Curva de calibração',\n",
        "    xaxis_title='Média das probabilidades preditas',\n",
        "    yaxis_title='Fração de positivos',\n",
        "    xaxis=dict(range=[0, 1]),\n",
        "    yaxis=dict(range=[0, 1.05]),\n",
        "    legend=dict(x=0.8, y=0.2),\n",
        "    width=800,\n",
        "    height=600\n",
        ")\n",
        "\n",
        "fig.show()\n"
      ]
    }
  ],
  "metadata": {
    "accelerator": "GPU",
    "colab": {
      "gpuType": "A100",
      "machine_shape": "hm",
      "provenance": []
    },
    "kernelspec": {
      "display_name": "Python 3",
      "name": "python3"
    },
    "language_info": {
      "codemirror_mode": {
        "name": "ipython",
        "version": 3
      },
      "file_extension": ".py",
      "mimetype": "text/x-python",
      "name": "python",
      "nbconvert_exporter": "python",
      "pygments_lexer": "ipython3",
      "version": "3.9.15"
    }
  },
  "nbformat": 4,
  "nbformat_minor": 0
}
